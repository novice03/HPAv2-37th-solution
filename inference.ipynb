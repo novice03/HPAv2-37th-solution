{
 "cells": [
  {
   "cell_type": "code",
   "execution_count": 1,
   "metadata": {
    "_cell_guid": "b1076dfc-b9ad-4769-8c92-a6c4dae69d19",
    "_uuid": "8f2839f25d086af736a60e9eeb907d3b93b6e0e5",
    "execution": {
     "iopub.execute_input": "2021-05-10T17:26:26.595015Z",
     "iopub.status.busy": "2021-05-10T17:26:26.593444Z",
     "iopub.status.idle": "2021-05-10T17:28:21.424533Z",
     "shell.execute_reply": "2021-05-10T17:28:21.423480Z"
    },
    "papermill": {
     "duration": 114.85681,
     "end_time": "2021-05-10T17:28:21.424705",
     "exception": false,
     "start_time": "2021-05-10T17:26:26.567895",
     "status": "completed"
    },
    "tags": []
   },
   "outputs": [
    {
     "name": "stdout",
     "output_type": "stream",
     "text": [
      "Processing /kaggle/input/pycocotools/pycocotools-2.0-cp37-cp37m-linux_x86_64.whl\r\n",
      "Requirement already satisfied: setuptools>=18.0 in /opt/conda/lib/python3.7/site-packages (from pycocotools==2.0) (49.6.0.post20210108)\r\n",
      "Requirement already satisfied: cython>=0.27.3 in /opt/conda/lib/python3.7/site-packages (from pycocotools==2.0) (0.29.23)\r\n",
      "Requirement already satisfied: matplotlib>=2.1.0 in /opt/conda/lib/python3.7/site-packages (from pycocotools==2.0) (3.4.1)\r\n",
      "Requirement already satisfied: python-dateutil>=2.7 in /opt/conda/lib/python3.7/site-packages (from matplotlib>=2.1.0->pycocotools==2.0) (2.8.1)\r\n",
      "Requirement already satisfied: pyparsing>=2.2.1 in /opt/conda/lib/python3.7/site-packages (from matplotlib>=2.1.0->pycocotools==2.0) (2.4.7)\r\n",
      "Requirement already satisfied: pillow>=6.2.0 in /opt/conda/lib/python3.7/site-packages (from matplotlib>=2.1.0->pycocotools==2.0) (7.2.0)\r\n",
      "Requirement already satisfied: cycler>=0.10 in /opt/conda/lib/python3.7/site-packages (from matplotlib>=2.1.0->pycocotools==2.0) (0.10.0)\r\n",
      "Requirement already satisfied: kiwisolver>=1.0.1 in /opt/conda/lib/python3.7/site-packages (from matplotlib>=2.1.0->pycocotools==2.0) (1.3.1)\r\n",
      "Requirement already satisfied: numpy>=1.16 in /opt/conda/lib/python3.7/site-packages (from matplotlib>=2.1.0->pycocotools==2.0) (1.19.5)\r\n",
      "Requirement already satisfied: six in /opt/conda/lib/python3.7/site-packages (from cycler>=0.10->matplotlib>=2.1.0->pycocotools==2.0) (1.15.0)\r\n",
      "Installing collected packages: pycocotools\r\n",
      "Successfully installed pycocotools-2.0\r\n",
      "Processing /kaggle/input/timm-pytorch-image-models/pytorch-image-models-master\r\n",
      "Requirement already satisfied: torch>=1.4 in /opt/conda/lib/python3.7/site-packages (from timm==0.4.8) (1.7.0)\r\n",
      "Requirement already satisfied: torchvision in /opt/conda/lib/python3.7/site-packages (from timm==0.4.8) (0.8.1)\r\n",
      "Requirement already satisfied: future in /opt/conda/lib/python3.7/site-packages (from torch>=1.4->timm==0.4.8) (0.18.2)\r\n",
      "Requirement already satisfied: typing_extensions in /opt/conda/lib/python3.7/site-packages (from torch>=1.4->timm==0.4.8) (3.7.4.3)\r\n",
      "Requirement already satisfied: dataclasses in /opt/conda/lib/python3.7/site-packages (from torch>=1.4->timm==0.4.8) (0.6)\r\n",
      "Requirement already satisfied: numpy in /opt/conda/lib/python3.7/site-packages (from torch>=1.4->timm==0.4.8) (1.19.5)\r\n",
      "Requirement already satisfied: pillow>=4.1.1 in /opt/conda/lib/python3.7/site-packages (from torchvision->timm==0.4.8) (7.2.0)\r\n",
      "Building wheels for collected packages: timm\r\n",
      "  Building wheel for timm (setup.py) ... \u001b[?25l-\b \b\\\b \b|\b \bdone\r\n",
      "\u001b[?25h  Created wheel for timm: filename=timm-0.4.8-py3-none-any.whl size=325934 sha256=811cd284254ec023a6e261418fdde6251959c972c8cbb231a5301672afe16c0f\r\n",
      "  Stored in directory: /root/.cache/pip/wheels/b2/4e/24/ca2e6fc7fceb1e8f1f4d3e5dd21df64327a03cf318d915c1bb\r\n",
      "Successfully built timm\r\n",
      "Installing collected packages: timm\r\n",
      "Successfully installed timm-0.4.8\r\n",
      "Processing /kaggle/input/hpacellsegmentatormaster/HPA-Cell-Segmentation-master\r\n",
      "Requirement already satisfied: scikit-image>=0.16.2 in /opt/conda/lib/python3.7/site-packages (from hpacellseg==0.1.7) (0.18.1)\r\n",
      "Requirement already satisfied: imageio>=2.6.1 in /opt/conda/lib/python3.7/site-packages (from hpacellseg==0.1.7) (2.9.0)\r\n",
      "Requirement already satisfied: scipy>=1.4.1 in /opt/conda/lib/python3.7/site-packages (from hpacellseg==0.1.7) (1.5.4)\r\n",
      "Requirement already satisfied: opencv-python>=4.2.0.32 in /opt/conda/lib/python3.7/site-packages (from hpacellseg==0.1.7) (4.5.1.48)\r\n",
      "Requirement already satisfied: pillow>=6.2.1 in /opt/conda/lib/python3.7/site-packages (from hpacellseg==0.1.7) (7.2.0)\r\n",
      "Requirement already satisfied: click>=7.0 in /opt/conda/lib/python3.7/site-packages (from hpacellseg==0.1.7) (7.1.2)\r\n",
      "Requirement already satisfied: numpy in /opt/conda/lib/python3.7/site-packages (from imageio>=2.6.1->hpacellseg==0.1.7) (1.19.5)\r\n",
      "Requirement already satisfied: networkx>=2.0 in /opt/conda/lib/python3.7/site-packages (from scikit-image>=0.16.2->hpacellseg==0.1.7) (2.5)\r\n",
      "Requirement already satisfied: tifffile>=2019.7.26 in /opt/conda/lib/python3.7/site-packages (from scikit-image>=0.16.2->hpacellseg==0.1.7) (2021.4.8)\r\n",
      "Requirement already satisfied: matplotlib!=3.0.0,>=2.0.0 in /opt/conda/lib/python3.7/site-packages (from scikit-image>=0.16.2->hpacellseg==0.1.7) (3.4.1)\r\n",
      "Requirement already satisfied: PyWavelets>=1.1.1 in /opt/conda/lib/python3.7/site-packages (from scikit-image>=0.16.2->hpacellseg==0.1.7) (1.1.1)\r\n",
      "Requirement already satisfied: cycler>=0.10 in /opt/conda/lib/python3.7/site-packages (from matplotlib!=3.0.0,>=2.0.0->scikit-image>=0.16.2->hpacellseg==0.1.7) (0.10.0)\r\n",
      "Requirement already satisfied: python-dateutil>=2.7 in /opt/conda/lib/python3.7/site-packages (from matplotlib!=3.0.0,>=2.0.0->scikit-image>=0.16.2->hpacellseg==0.1.7) (2.8.1)\r\n",
      "Requirement already satisfied: pyparsing>=2.2.1 in /opt/conda/lib/python3.7/site-packages (from matplotlib!=3.0.0,>=2.0.0->scikit-image>=0.16.2->hpacellseg==0.1.7) (2.4.7)\r\n",
      "Requirement already satisfied: kiwisolver>=1.0.1 in /opt/conda/lib/python3.7/site-packages (from matplotlib!=3.0.0,>=2.0.0->scikit-image>=0.16.2->hpacellseg==0.1.7) (1.3.1)\r\n",
      "Requirement already satisfied: six in /opt/conda/lib/python3.7/site-packages (from cycler>=0.10->matplotlib!=3.0.0,>=2.0.0->scikit-image>=0.16.2->hpacellseg==0.1.7) (1.15.0)\r\n",
      "Requirement already satisfied: decorator>=4.3.0 in /opt/conda/lib/python3.7/site-packages (from networkx>=2.0->scikit-image>=0.16.2->hpacellseg==0.1.7) (4.4.2)\r\n",
      "Building wheels for collected packages: hpacellseg\r\n",
      "  Building wheel for hpacellseg (setup.py) ... \u001b[?25l-\b \b\\\b \bdone\r\n",
      "\u001b[?25h  Created wheel for hpacellseg: filename=hpacellseg-0.1.7-py3-none-any.whl size=14777 sha256=f3c42b8c0c9343212b883ffe19a8308ac05079f11d520247b900b25bca59a6ab\r\n",
      "  Stored in directory: /root/.cache/pip/wheels/9d/fe/fb/7155f898e42718e2bf20deda36e64aae6b19b5714f55110899\r\n",
      "Successfully built hpacellseg\r\n",
      "Installing collected packages: hpacellseg\r\n",
      "Successfully installed hpacellseg-0.1.7\r\n",
      "Processing /kaggle/input/hpapytorchzoozip/pytorch_zoo-master\r\n",
      "Building wheels for collected packages: pytorch-zoo\r\n",
      "  Building wheel for pytorch-zoo (setup.py) ... \u001b[?25l-\b \b\\\b \bdone\r\n",
      "\u001b[?25h  Created wheel for pytorch-zoo: filename=pytorch_zoo-0.0.0-py3-none-any.whl size=30139 sha256=488ebbb48819b4d955565987f3101d5a2f89d702fbf47b6ff0e8a0aca2dbb325\r\n",
      "  Stored in directory: /root/.cache/pip/wheels/7a/a2/3c/c273ce5aac2e7c58dd8ecc09794eef80b4a9c43e888738cc10\r\n",
      "Successfully built pytorch-zoo\r\n",
      "Installing collected packages: pytorch-zoo\r\n",
      "Successfully installed pytorch-zoo-0.0.0\r\n"
     ]
    }
   ],
   "source": [
    "!pip install ../input/pycocotools/pycocotools-2.0-cp37-cp37m-linux_x86_64.whl\n",
    "!pip install ../input/timm-pytorch-image-models/pytorch-image-models-master\n",
    "!pip install ../input/hpacellsegmentatormaster/HPA-Cell-Segmentation-master\n",
    "!pip install ../input/hpapytorchzoozip/pytorch_zoo-master"
   ]
  },
  {
   "cell_type": "code",
   "execution_count": 2,
   "metadata": {
    "execution": {
     "iopub.execute_input": "2021-05-10T17:28:21.490552Z",
     "iopub.status.busy": "2021-05-10T17:28:21.489710Z",
     "iopub.status.idle": "2021-05-10T17:28:26.478179Z",
     "shell.execute_reply": "2021-05-10T17:28:26.477695Z"
    },
    "papermill": {
     "duration": 5.025428,
     "end_time": "2021-05-10T17:28:26.478304",
     "exception": false,
     "start_time": "2021-05-10T17:28:21.452876",
     "status": "completed"
    },
    "tags": []
   },
   "outputs": [],
   "source": [
    "import pandas as pd\n",
    "import numpy as np\n",
    "import os\n",
    "import cv2\n",
    "from tqdm import tqdm\n",
    "import shutil\n",
    "import matplotlib.pyplot as plt\n",
    "import base64\n",
    "from pycocotools import _mask as coco_mask\n",
    "import typing as t\n",
    "import zlib\n",
    "import hpacellseg.cellsegmentator as cellsegmentator\n",
    "from hpacellseg.utils import label_cell, label_nuclei\n",
    "from fastai.vision.all import *\n",
    "from timm import create_model\n",
    "from fastai.vision.learner import _update_first_layer\n",
    "from torch.distributions.beta import Beta\n",
    "from PIL import ImageFile\n",
    "ImageFile.LOAD_TRUNCATED_IMAGES = True"
   ]
  },
  {
   "cell_type": "code",
   "execution_count": 3,
   "metadata": {
    "execution": {
     "iopub.execute_input": "2021-05-10T17:28:26.542315Z",
     "iopub.status.busy": "2021-05-10T17:28:26.541766Z",
     "iopub.status.idle": "2021-05-10T17:28:26.599846Z",
     "shell.execute_reply": "2021-05-10T17:28:26.600250Z"
    },
    "papermill": {
     "duration": 0.09417,
     "end_time": "2021-05-10T17:28:26.600406",
     "exception": false,
     "start_time": "2021-05-10T17:28:26.506236",
     "status": "completed"
    },
    "tags": []
   },
   "outputs": [],
   "source": [
    "train_df = pd.read_csv('../input/hpa-single-cell-image-classification/train.csv')\n",
    "train_df['fname'] = train_df['ID'].apply(lambda x: '../input/hpa-single-cell-image-classification/train/' + x + '_green.png')\n",
    "train_df = train_df.rename(columns = {'Label': 'labels'})"
   ]
  },
  {
   "cell_type": "code",
   "execution_count": 4,
   "metadata": {
    "execution": {
     "iopub.execute_input": "2021-05-10T17:28:26.664578Z",
     "iopub.status.busy": "2021-05-10T17:28:26.663966Z",
     "iopub.status.idle": "2021-05-10T17:28:26.677095Z",
     "shell.execute_reply": "2021-05-10T17:28:26.676644Z"
    },
    "papermill": {
     "duration": 0.048596,
     "end_time": "2021-05-10T17:28:26.677220",
     "exception": false,
     "start_time": "2021-05-10T17:28:26.628624",
     "status": "completed"
    },
    "tags": []
   },
   "outputs": [],
   "source": [
    "# sample csv\n",
    "sub_df = pd.read_csv('../input/hpa-single-cell-image-classification/sample_submission.csv')\n",
    "sub_df = sub_df.rename(columns = {'ID': 'Image'})\n",
    "\n",
    "# df with per cell encs\n",
    "out_df = pd.DataFrame(columns = ['img_id', 'fname', 'enc'])"
   ]
  },
  {
   "cell_type": "code",
   "execution_count": 5,
   "metadata": {
    "execution": {
     "iopub.execute_input": "2021-05-10T17:28:26.739126Z",
     "iopub.status.busy": "2021-05-10T17:28:26.738607Z",
     "iopub.status.idle": "2021-05-10T17:28:26.742095Z",
     "shell.execute_reply": "2021-05-10T17:28:26.742463Z"
    },
    "papermill": {
     "duration": 0.036464,
     "end_time": "2021-05-10T17:28:26.742632",
     "exception": false,
     "start_time": "2021-05-10T17:28:26.706168",
     "status": "completed"
    },
    "tags": []
   },
   "outputs": [],
   "source": [
    "# cell extractor details\n",
    "save_dir = '/kaggle/working/test_cells'\n",
    "img_path = '../input/hpa-single-cell-image-classification/test'\n",
    "\n",
    "if not os.path.exists(save_dir):\n",
    "    os.mkdir(save_dir)"
   ]
  },
  {
   "cell_type": "code",
   "execution_count": 6,
   "metadata": {
    "execution": {
     "iopub.execute_input": "2021-05-10T17:28:26.805106Z",
     "iopub.status.busy": "2021-05-10T17:28:26.803794Z",
     "iopub.status.idle": "2021-05-10T17:28:26.806113Z",
     "shell.execute_reply": "2021-05-10T17:28:26.806559Z"
    },
    "papermill": {
     "duration": 0.036718,
     "end_time": "2021-05-10T17:28:26.806690",
     "exception": false,
     "start_time": "2021-05-10T17:28:26.769972",
     "status": "completed"
    },
    "tags": []
   },
   "outputs": [],
   "source": [
    "def encode_binary_mask(mask: np.ndarray) -> t.Text:\n",
    "    if mask.dtype != np.bool:\n",
    "        raise ValueError(\n",
    "        \"encode_binary_mask expects a binary mask, received dtype == %s\" %\n",
    "        mask.dtype)\n",
    "\n",
    "    mask = np.squeeze(mask)\n",
    "    if len(mask.shape) != 2:\n",
    "        raise ValueError(\n",
    "        \"encode_binary_mask expects a 2d mask, received shape == %s\" %\n",
    "        mask.shape)\n",
    "\n",
    "    # convert input mask to expected COCO API input --\n",
    "    mask_to_encode = mask.reshape(mask.shape[0], mask.shape[1], 1)\n",
    "    mask_to_encode = mask_to_encode.astype(np.uint8)\n",
    "    mask_to_encode = np.asfortranarray(mask_to_encode)\n",
    "\n",
    "      # RLE encode mask --\n",
    "    encoded_mask = coco_mask.encode(mask_to_encode)[0][\"counts\"]\n",
    "\n",
    "      # compress and base64 encoding --\n",
    "    binary_str = zlib.compress(encoded_mask, zlib.Z_BEST_COMPRESSION)\n",
    "    base64_str = base64.b64encode(binary_str)\n",
    "    return base64_str.decode('ascii')"
   ]
  },
  {
   "cell_type": "code",
   "execution_count": 7,
   "metadata": {
    "execution": {
     "iopub.execute_input": "2021-05-10T17:28:26.876915Z",
     "iopub.status.busy": "2021-05-10T17:28:26.876096Z",
     "iopub.status.idle": "2021-05-10T17:28:26.879329Z",
     "shell.execute_reply": "2021-05-10T17:28:26.878865Z"
    },
    "papermill": {
     "duration": 0.044443,
     "end_time": "2021-05-10T17:28:26.879457",
     "exception": false,
     "start_time": "2021-05-10T17:28:26.835014",
     "status": "completed"
    },
    "tags": []
   },
   "outputs": [],
   "source": [
    "def get_cells(img_name, cell_mask, out_df):\n",
    "    num_cells = np.max(cell_mask)\n",
    "\n",
    "    r = cv2.imread('{}/{}_red.png'.format(img_path, img_name), cv2.IMREAD_UNCHANGED)\n",
    "    g = cv2.imread('{}/{}_green.png'.format(img_path, img_name), cv2.IMREAD_UNCHANGED)    \n",
    "    b = cv2.imread('{}/{}_blue.png'.format(img_path, img_name), cv2.IMREAD_UNCHANGED)\n",
    "    \n",
    "    for cell in range(1, num_cells + 1):\n",
    "        b_mask = (cell_mask == cell)\n",
    "        true_points = np.argwhere(b_mask)\n",
    "        top_left = true_points.min(axis=0)\n",
    "        bottom_right = true_points.max(axis=0)\n",
    "        \n",
    "        r_m = r * b_mask\n",
    "        g_m = g * b_mask\n",
    "        b_m = b * b_mask\n",
    "        \n",
    "        r_m = r_m[top_left[0]:bottom_right[0]+1,top_left[1]:bottom_right[1]+1]  \n",
    "        g_m = g_m[top_left[0]:bottom_right[0]+1,top_left[1]:bottom_right[1]+1]        \n",
    "        b_m = b_m[top_left[0]:bottom_right[0]+1,top_left[1]:bottom_right[1]+1]\n",
    "        \n",
    "        \n",
    "        \n",
    "        if r_m.max() > 255:\n",
    "            im = np.dstack((b_m, g_m, r_m)) / 255\n",
    "        else:\n",
    "            im = np.dstack((b_m, g_m, r_m))\n",
    "        \n",
    "        fname = '{}/{}_{}.png'.format(save_dir, img_name, cell)\n",
    "        enc = encode_binary_mask(b_mask)\n",
    "        \n",
    "        out_df = out_df.append({'img_id': img_name, 'fname': fname, 'enc': enc}, ignore_index = True)\n",
    "        \n",
    "        cv2.imwrite(fname, im)   \n",
    "    \n",
    "    return out_df"
   ]
  },
  {
   "cell_type": "code",
   "execution_count": 8,
   "metadata": {
    "execution": {
     "iopub.execute_input": "2021-05-10T17:28:26.948860Z",
     "iopub.status.busy": "2021-05-10T17:28:26.948179Z",
     "iopub.status.idle": "2021-05-10T17:28:43.222344Z",
     "shell.execute_reply": "2021-05-10T17:28:43.221402Z"
    },
    "papermill": {
     "duration": 16.31078,
     "end_time": "2021-05-10T17:28:43.222500",
     "exception": false,
     "start_time": "2021-05-10T17:28:26.911720",
     "status": "completed"
    },
    "tags": []
   },
   "outputs": [
    {
     "name": "stdout",
     "output_type": "stream",
     "text": [
      "please compile abn\n"
     ]
    },
    {
     "name": "stderr",
     "output_type": "stream",
     "text": [
      "/opt/conda/lib/python3.7/site-packages/torch/serialization.py:658: SourceChangeWarning: source code of class 'pytorch_zoo.unet.DPNUnet' has changed. you can retrieve the original source code by accessing the object's source attribute or set `torch.nn.Module.dump_patches = True` and use the patch tool to revert the changes.\n",
      "  warnings.warn(msg, SourceChangeWarning)\n",
      "/opt/conda/lib/python3.7/site-packages/torch/serialization.py:658: SourceChangeWarning: source code of class 'torch.nn.modules.container.ModuleList' has changed. you can retrieve the original source code by accessing the object's source attribute or set `torch.nn.Module.dump_patches = True` and use the patch tool to revert the changes.\n",
      "  warnings.warn(msg, SourceChangeWarning)\n",
      "/opt/conda/lib/python3.7/site-packages/torch/serialization.py:658: SourceChangeWarning: source code of class 'torch.nn.modules.container.Sequential' has changed. you can retrieve the original source code by accessing the object's source attribute or set `torch.nn.Module.dump_patches = True` and use the patch tool to revert the changes.\n",
      "  warnings.warn(msg, SourceChangeWarning)\n",
      "/opt/conda/lib/python3.7/site-packages/torch/serialization.py:658: SourceChangeWarning: source code of class 'torch.nn.modules.conv.Conv2d' has changed. you can retrieve the original source code by accessing the object's source attribute or set `torch.nn.Module.dump_patches = True` and use the patch tool to revert the changes.\n",
      "  warnings.warn(msg, SourceChangeWarning)\n",
      "/opt/conda/lib/python3.7/site-packages/torch/serialization.py:658: SourceChangeWarning: source code of class 'torch.nn.modules.activation.ReLU' has changed. you can retrieve the original source code by accessing the object's source attribute or set `torch.nn.Module.dump_patches = True` and use the patch tool to revert the changes.\n",
      "  warnings.warn(msg, SourceChangeWarning)\n",
      "/opt/conda/lib/python3.7/site-packages/torch/serialization.py:658: SourceChangeWarning: source code of class 'torch.nn.modules.upsampling.Upsample' has changed. you can retrieve the original source code by accessing the object's source attribute or set `torch.nn.Module.dump_patches = True` and use the patch tool to revert the changes.\n",
      "  warnings.warn(msg, SourceChangeWarning)\n",
      "/opt/conda/lib/python3.7/site-packages/torch/serialization.py:658: SourceChangeWarning: source code of class 'torch.nn.modules.batchnorm.BatchNorm2d' has changed. you can retrieve the original source code by accessing the object's source attribute or set `torch.nn.Module.dump_patches = True` and use the patch tool to revert the changes.\n",
      "  warnings.warn(msg, SourceChangeWarning)\n",
      "/opt/conda/lib/python3.7/site-packages/torch/serialization.py:658: SourceChangeWarning: source code of class 'torch.nn.modules.pooling.MaxPool2d' has changed. you can retrieve the original source code by accessing the object's source attribute or set `torch.nn.Module.dump_patches = True` and use the patch tool to revert the changes.\n",
      "  warnings.warn(msg, SourceChangeWarning)\n"
     ]
    }
   ],
   "source": [
    "colors = ['red', 'yellow', 'blue']\n",
    "NUC_MODEL = \"../input/hpacellsegmentatormodelweights/dpn_unet_nuclei_v1.pth\"\n",
    "CELL_MODEL = \"../input/hpacellsegmentatormodelweights/dpn_unet_cell_3ch_v1.pth\"\n",
    "\n",
    "segmentator = cellsegmentator.CellSegmentator(\n",
    "    NUC_MODEL,\n",
    "    CELL_MODEL,\n",
    "    scale_factor= 0.25,\n",
    "    device=\"cuda\",\n",
    "    padding=True,\n",
    "    multi_channel_model=True)"
   ]
  },
  {
   "cell_type": "code",
   "execution_count": 9,
   "metadata": {
    "execution": {
     "iopub.execute_input": "2021-05-10T17:28:43.290705Z",
     "iopub.status.busy": "2021-05-10T17:28:43.289001Z",
     "iopub.status.idle": "2021-05-10T17:32:46.977251Z",
     "shell.execute_reply": "2021-05-10T17:32:46.975806Z"
    },
    "papermill": {
     "duration": 243.72517,
     "end_time": "2021-05-10T17:32:46.977381",
     "exception": false,
     "start_time": "2021-05-10T17:28:43.252211",
     "status": "completed"
    },
    "tags": []
   },
   "outputs": [
    {
     "name": "stderr",
     "output_type": "stream",
     "text": [
      "100%|██████████| 559/559 [04:03<00:00,  2.30it/s]\n"
     ]
    }
   ],
   "source": [
    "out_path = '/kaggle/working/test_rgb'\n",
    "raw_img_path = '../input/hpa-single-cell-image-classification/test'\n",
    "\n",
    "if not os.path.exists(out_path):\n",
    "    os.mkdir(out_path)\n",
    "\n",
    "for idx, row in tqdm(sub_df.iterrows(), total = len(sub_df)):\n",
    "    img_name = row.Image\n",
    "    \n",
    "    b = cv2.imread('{}/{}_blue.png'.format(raw_img_path, img_name), cv2.IMREAD_UNCHANGED)\n",
    "    g = cv2.imread('{}/{}_green.png'.format(raw_img_path, img_name), cv2.IMREAD_UNCHANGED)\n",
    "    r = cv2.imread('{}/{}_red.png'.format(raw_img_path, img_name), cv2.IMREAD_UNCHANGED)\n",
    "    \n",
    "    if b.max() > 255: b = b / 255\n",
    "    if g.max() > 255: g = g / 255\n",
    "    if r.max() > 255: r = r / 255\n",
    "    \n",
    "    im = np.dstack((b, g, r))\n",
    "    im = cv2.resize(im, (448, 448))\n",
    "    \n",
    "    cv2.imwrite('{}/{}.png'.format(out_path, img_name), im)"
   ]
  },
  {
   "cell_type": "code",
   "execution_count": 10,
   "metadata": {
    "execution": {
     "iopub.execute_input": "2021-05-10T17:32:47.331336Z",
     "iopub.status.busy": "2021-05-10T17:32:47.330809Z",
     "iopub.status.idle": "2021-05-10T19:10:15.208952Z",
     "shell.execute_reply": "2021-05-10T19:10:15.209348Z"
    },
    "papermill": {
     "duration": 5848.057855,
     "end_time": "2021-05-10T19:10:15.209541",
     "exception": false,
     "start_time": "2021-05-10T17:32:47.151686",
     "status": "completed"
    },
    "tags": []
   },
   "outputs": [
    {
     "name": "stderr",
     "output_type": "stream",
     "text": [
      "100%|██████████| 559/559 [1:37:27<00:00, 10.46s/it]\n"
     ]
    }
   ],
   "source": [
    "for idx, row in tqdm(sub_df.iterrows(), total = len(sub_df)):\n",
    "    img_name = row.Image.split('/')[-1]\n",
    "    channels = np.expand_dims(np.array(['{}/{}_{}.png'.format(img_path, img_name, color) for color in colors]), axis = 1).tolist()\n",
    "    \n",
    "    nuc_segmentations = segmentator.pred_nuclei(channels[2])\n",
    "    cell_segmentations = segmentator.pred_cells(channels)\n",
    "      \n",
    "    nuclei_mask, cell_mask = label_cell(nuc_segmentations[0], cell_segmentations[0])\n",
    "        \n",
    "    out_df = get_cells(img_name, cell_mask, out_df)"
   ]
  },
  {
   "cell_type": "code",
   "execution_count": 11,
   "metadata": {
    "execution": {
     "iopub.execute_input": "2021-05-10T19:10:15.909663Z",
     "iopub.status.busy": "2021-05-10T19:10:15.903556Z",
     "iopub.status.idle": "2021-05-10T19:10:15.921057Z",
     "shell.execute_reply": "2021-05-10T19:10:15.920618Z"
    },
    "papermill": {
     "duration": 0.384688,
     "end_time": "2021-05-10T19:10:15.921170",
     "exception": false,
     "start_time": "2021-05-10T19:10:15.536482",
     "status": "completed"
    },
    "tags": []
   },
   "outputs": [
    {
     "data": {
      "text/html": [
       "<div>\n",
       "<style scoped>\n",
       "    .dataframe tbody tr th:only-of-type {\n",
       "        vertical-align: middle;\n",
       "    }\n",
       "\n",
       "    .dataframe tbody tr th {\n",
       "        vertical-align: top;\n",
       "    }\n",
       "\n",
       "    .dataframe thead th {\n",
       "        text-align: right;\n",
       "    }\n",
       "</style>\n",
       "<table border=\"1\" class=\"dataframe\">\n",
       "  <thead>\n",
       "    <tr style=\"text-align: right;\">\n",
       "      <th></th>\n",
       "      <th>img_id</th>\n",
       "      <th>fname</th>\n",
       "      <th>enc</th>\n",
       "    </tr>\n",
       "  </thead>\n",
       "  <tbody>\n",
       "    <tr>\n",
       "      <th>0</th>\n",
       "      <td>0040581b-f1f2-4fbe-b043-b6bfea5404bb</td>\n",
       "      <td>/kaggle/working/test_cells/0040581b-f1f2-4fbe-b043-b6bfea5404bb_1.png</td>\n",
       "      <td>eNqtVm2PojAQ/ksMZe+Sy21yubtc4gKDIkpBUJQ3KyD//9t1KPhu1M22Rp9Op0+n0+mM87cMoj1osoHmgDN8aeCormcu7nBXgQ+ehxXWFczA9bDBPaF6ihPHrWECyRR/hTV4ulyuSLqm0GFMxOpDvRP18Ep+tynLSBV1RzGc8BzGg16HSIq67ArBrfnL9Zp2i/y2fHCXkg/EEndH0wZn4nGL83Un/cxvL5z/znmGbR/547j9q357wNPbeTj+eVfOUeZqzsl659RF2iFSDuMhWAaL5B79fB9lpOKPFk7p41Zbv9liAz9nMf6tN/Duxvin3UCiNRH+8lIotTxC7kQpCC2NcO4sU6i0dYSek6TQanGEYyeTMn0domcnOTT6MsSpneaw16MQJ3aeg8t4iI0lcghZG2BhuQUsWB1gbs0KiJgIMLN4ASuWB5hYUQEFiwMMrayAkoUBBlZZwJb5AXJrV4BgXoC+1RRQsUmAnjUuoWEtR9dyS2hZw3FseSVMDcGxNnkJcyPnKMy4BG5sOBZmUsLCWHHMzE0JsRFxTM28hKURcNyY2xJWxpzj2qxKSIwpoYbQmGbHW6nX+hK5W6lX...</td>\n",
       "    </tr>\n",
       "    <tr>\n",
       "      <th>1</th>\n",
       "      <td>0040581b-f1f2-4fbe-b043-b6bfea5404bb</td>\n",
       "      <td>/kaggle/working/test_cells/0040581b-f1f2-4fbe-b043-b6bfea5404bb_2.png</td>\n",
       "      <td>eNrVUm1PwkAM/kvt3XgRjEajvO7uhGCEEHCgcSQi/v9vXtudbGwzQT+5JteXe67tnna7fE1wC6tPVA5tFGujrDLa+tOhjyixRFcI421kPMKBy6KmEbeG9F7H7QG91+YJd1YqRLEgLu8Ewb5HdGv8kCGFBXXkrdZQ9AGmHEFfVyIXfXQAmEW1aQ/yPqHgd59DOb2AHORK5nocQADn4siaOwZkTrL+hPGAEs6DXRL5Y+G7dCvvaIolHJ+W5xtrV5it0TJ3b0U01bg5Zn2csmxHzudZ2WisbaFeyN/rFPu5uSY2rOp1iBej+h2ZBxMJhGLGgB3yX+JVaqfPbrLAfQKPqT2s3cccpxuy92v3PsfZBp5Su127xMBiibsE3nx1ynp7xRrvu0ZL/Wo9bFXHA/vEzDn+t2TTpxuyLJ7lQ3GzQPLxFvl7xzuV9y0S3qpRo9TfsTNCjxt/+7/a/62R/5I/xHmPf+Br1KzOd7pPp/iwh6f7lsUnD/sZfgE+j18v</td>\n",
       "    </tr>\n",
       "    <tr>\n",
       "      <th>2</th>\n",
       "      <td>0040581b-f1f2-4fbe-b043-b6bfea5404bb</td>\n",
       "      <td>/kaggle/working/test_cells/0040581b-f1f2-4fbe-b043-b6bfea5404bb_3.png</td>\n",
       "      <td>eNoLCEgJMg4wDMg3NPQ39Df2NfaF0EZ+IBoBIXzc8oSgARxA2OiiuMWJBYT0kyuPLk4aH+F/6ojTS57a5tALwtIpqemTVvYDaQMDIwM/eJoCiQJJXO4EhqCBPyQ8/Yz8DbAlLScA3+jcjQ==</td>\n",
       "    </tr>\n",
       "    <tr>\n",
       "      <th>3</th>\n",
       "      <td>0040581b-f1f2-4fbe-b043-b6bfea5404bb</td>\n",
       "      <td>/kaggle/working/test_cells/0040581b-f1f2-4fbe-b043-b6bfea5404bb_4.png</td>\n",
       "      <td>eNptUstOAzEM/CUnXtoiAQcegnbzOMAFgdRFbIXEpf9/q+2pd0vYjZQde8aPxBmHz4EG2h9DLDGtHg5hLIJK198+muf+i7YKusQ11JD5vf5QjUXQ041KE+9WagsbLVRRu1re9sKI769qIHKt+hyhDnRzXvCZMy/zrU76W/R7Ha1N5B3Mnfii6RMsDgHqrbrDINWc7SnExJf6i0RzsaY42iNkXdChJbXswK3er3jiEedHEZXzgv7ni/P1GAq5U32O55FFjAeKIgPowXPBcDmjfoSdO/D2eOw17dTmhIGx+l0v/Qj7l3+5hv28Sfpf7+sdHB91JHO9fb/+xhOdSqvy</td>\n",
       "    </tr>\n",
       "    <tr>\n",
       "      <th>4</th>\n",
       "      <td>0040581b-f1f2-4fbe-b043-b6bfea5404bb</td>\n",
       "      <td>/kaggle/working/test_cells/0040581b-f1f2-4fbe-b043-b6bfea5404bb_5.png</td>\n",
       "      <td>eNp9UcuSmzAQ/CVGku1U8CGpxBs7EsMrPNdgMNYasIH/v0UD61RctbXo0D2tHqk1/Okvr5Dw9g4MmRL7Lzjjt8payE/bZQgO323nmu9sF1xTdy+ZOmvMRZFDK2uNmShz6GSlMSVtlIXGSNQ5eCrTGIq3HCaZagzElbREoy/aHEIVaPTEPYdC5Q0GK30ET2YN+qu3I/gybdAjLZZRg4O4HGGQZYXluj5BsKJkv74iM5ksyuWC9cEH7meLIXcI7Z1B80ihBNVYWd+XDe4smECHz5btewt3KAFgY5Xu4t0cFjSzc8nBcHHYL89nGp9ijxMM2rvlZOY+wtMN5LxYBb2y2F8TLDd5C/V+SDDbVC08ZeLvN3Yxng5BB6f1FGNNrFyPMZ4PIbEbsaSD85rjc6IHzsk/GJNJSjuFm0Q4yL4HX6QRjrIjZrSJmEeapwwbuWGhuvdw5VGEqZp60KRNciRfSL0TsYA6vJvp8CIMlH+DgZ/nv4rM4csMaYrmhf9mhv8v7ohZ3/5Y/RZUq6XLi8OI/QVl/s76</td>\n",
       "    </tr>\n",
       "  </tbody>\n",
       "</table>\n",
       "</div>"
      ],
      "text/plain": [
       "                                 img_id  \\\n",
       "0  0040581b-f1f2-4fbe-b043-b6bfea5404bb   \n",
       "1  0040581b-f1f2-4fbe-b043-b6bfea5404bb   \n",
       "2  0040581b-f1f2-4fbe-b043-b6bfea5404bb   \n",
       "3  0040581b-f1f2-4fbe-b043-b6bfea5404bb   \n",
       "4  0040581b-f1f2-4fbe-b043-b6bfea5404bb   \n",
       "\n",
       "                                                                   fname  \\\n",
       "0  /kaggle/working/test_cells/0040581b-f1f2-4fbe-b043-b6bfea5404bb_1.png   \n",
       "1  /kaggle/working/test_cells/0040581b-f1f2-4fbe-b043-b6bfea5404bb_2.png   \n",
       "2  /kaggle/working/test_cells/0040581b-f1f2-4fbe-b043-b6bfea5404bb_3.png   \n",
       "3  /kaggle/working/test_cells/0040581b-f1f2-4fbe-b043-b6bfea5404bb_4.png   \n",
       "4  /kaggle/working/test_cells/0040581b-f1f2-4fbe-b043-b6bfea5404bb_5.png   \n",
       "\n",
       "                                                                                                                                                                                                                                                                                                                                                                                                                                                                                                                                                                                                                       enc  \n",
       "0  eNqtVm2PojAQ/ksMZe+Sy21yubtc4gKDIkpBUJQ3KyD//9t1KPhu1M22Rp9Op0+n0+mM87cMoj1osoHmgDN8aeCormcu7nBXgQ+ehxXWFczA9bDBPaF6ihPHrWECyRR/hTV4ulyuSLqm0GFMxOpDvRP18Ep+tynLSBV1RzGc8BzGg16HSIq67ArBrfnL9Zp2i/y2fHCXkg/EEndH0wZn4nGL83Un/cxvL5z/znmGbR/547j9q357wNPbeTj+eVfOUeZqzsl659RF2iFSDuMhWAaL5B79fB9lpOKPFk7p41Zbv9liAz9nMf6tN/Duxvin3UCiNRH+8lIotTxC7kQpCC2NcO4sU6i0dYSek6TQanGEYyeTMn0domcnOTT6MsSpneaw16MQJ3aeg8t4iI0lcghZG2BhuQUsWB1gbs0KiJgIMLN4ASuWB5hYUQEFiwMMrayAkoUBBlZZwJb5AXJrV4BgXoC+1RRQsUmAnjUuoWEtR9dyS2hZw3FseSVMDcGxNnkJcyPnKMy4BG5sOBZmUsLCWHHMzE0JsRFxTM28hKURcNyY2xJWxpzj2qxKSIwpoYbQmGbHW6nX+hK5W6lX...  \n",
       "1                                                                                             eNrVUm1PwkAM/kvt3XgRjEajvO7uhGCEEHCgcSQi/v9vXtudbGwzQT+5JteXe67tnna7fE1wC6tPVA5tFGujrDLa+tOhjyixRFcI421kPMKBy6KmEbeG9F7H7QG91+YJd1YqRLEgLu8Ewb5HdGv8kCGFBXXkrdZQ9AGmHEFfVyIXfXQAmEW1aQ/yPqHgd59DOb2AHORK5nocQADn4siaOwZkTrL+hPGAEs6DXRL5Y+G7dCvvaIolHJ+W5xtrV5it0TJ3b0U01bg5Zn2csmxHzudZ2WisbaFeyN/rFPu5uSY2rOp1iBej+h2ZBxMJhGLGgB3yX+JVaqfPbrLAfQKPqT2s3cccpxuy92v3PsfZBp5Su127xMBiibsE3nx1ynp7xRrvu0ZL/Wo9bFXHA/vEzDn+t2TTpxuyLJ7lQ3GzQPLxFvl7xzuV9y0S3qpRo9TfsTNCjxt/+7/a/62R/5I/xHmPf+Br1KzOd7pPp/iwh6f7lsUnD/sZfgE+j18v  \n",
       "2                                                                                                                                                                                                                                                                                                                                                                                                                                                                         eNoLCEgJMg4wDMg3NPQ39Df2NfaF0EZ+IBoBIXzc8oSgARxA2OiiuMWJBYT0kyuPLk4aH+F/6ojTS57a5tALwtIpqemTVvYDaQMDIwM/eJoCiQJJXO4EhqCBPyQ8/Yz8DbAlLScA3+jcjQ==  \n",
       "3                                                                                                                                                                                                                                                                     eNptUstOAzEM/CUnXtoiAQcegnbzOMAFgdRFbIXEpf9/q+2pd0vYjZQde8aPxBmHz4EG2h9DLDGtHg5hLIJK198+muf+i7YKusQ11JD5vf5QjUXQ041KE+9WagsbLVRRu1re9sKI769qIHKt+hyhDnRzXvCZMy/zrU76W/R7Ha1N5B3Mnfii6RMsDgHqrbrDINWc7SnExJf6i0RzsaY42iNkXdChJbXswK3er3jiEedHEZXzgv7ni/P1GAq5U32O55FFjAeKIgPowXPBcDmjfoSdO/D2eOw17dTmhIGx+l0v/Qj7l3+5hv28Sfpf7+sdHB91JHO9fb/+xhOdSqvy  \n",
       "4                                                             eNp9UcuSmzAQ/CVGku1U8CGpxBs7EsMrPNdgMNYasIH/v0UD61RctbXo0D2tHqk1/Okvr5Dw9g4MmRL7Lzjjt8payE/bZQgO323nmu9sF1xTdy+ZOmvMRZFDK2uNmShz6GSlMSVtlIXGSNQ5eCrTGIq3HCaZagzElbREoy/aHEIVaPTEPYdC5Q0GK30ET2YN+qu3I/gybdAjLZZRg4O4HGGQZYXluj5BsKJkv74iM5ksyuWC9cEH7meLIXcI7Z1B80ihBNVYWd+XDe4smECHz5btewt3KAFgY5Xu4t0cFjSzc8nBcHHYL89nGp9ijxMM2rvlZOY+wtMN5LxYBb2y2F8TLDd5C/V+SDDbVC08ZeLvN3Yxng5BB6f1FGNNrFyPMZ4PIbEbsaSD85rjc6IHzsk/GJNJSjuFm0Q4yL4HX6QRjrIjZrSJmEeapwwbuWGhuvdw5VGEqZp60KRNciRfSL0TsYA6vJvp8CIMlH+DgZ/nv4rM4csMaYrmhf9mhv8v7ohZ3/5Y/RZUq6XLi8OI/QVl/s76  "
      ]
     },
     "execution_count": 11,
     "metadata": {},
     "output_type": "execute_result"
    }
   ],
   "source": [
    "out_df.head()"
   ]
  },
  {
   "cell_type": "code",
   "execution_count": 12,
   "metadata": {
    "execution": {
     "iopub.execute_input": "2021-05-10T19:10:16.571069Z",
     "iopub.status.busy": "2021-05-10T19:10:16.570458Z",
     "iopub.status.idle": "2021-05-10T19:10:16.574904Z",
     "shell.execute_reply": "2021-05-10T19:10:16.574351Z"
    },
    "papermill": {
     "duration": 0.328373,
     "end_time": "2021-05-10T19:10:16.575030",
     "exception": false,
     "start_time": "2021-05-10T19:10:16.246657",
     "status": "completed"
    },
    "tags": []
   },
   "outputs": [],
   "source": [
    "def get_image_path(x): return x.fname\n",
    "\n",
    "single_labels = [str(i) for i in range(19)]"
   ]
  },
  {
   "cell_type": "code",
   "execution_count": 13,
   "metadata": {
    "execution": {
     "iopub.execute_input": "2021-05-10T19:10:17.247095Z",
     "iopub.status.busy": "2021-05-10T19:10:17.246389Z",
     "iopub.status.idle": "2021-05-10T19:10:17.250069Z",
     "shell.execute_reply": "2021-05-10T19:10:17.249599Z"
    },
    "papermill": {
     "duration": 0.33939,
     "end_time": "2021-05-10T19:10:17.250181",
     "exception": false,
     "start_time": "2021-05-10T19:10:16.910791",
     "status": "completed"
    },
    "tags": []
   },
   "outputs": [],
   "source": [
    "item_tfms = Resize(448, method = 'squish')\n",
    "batch_tfms = [Rotate(max_deg = 270, p = 0.9), Normalize()]\n",
    "bs = 32"
   ]
  },
  {
   "cell_type": "code",
   "execution_count": 14,
   "metadata": {
    "execution": {
     "iopub.execute_input": "2021-05-10T19:10:17.928546Z",
     "iopub.status.busy": "2021-05-10T19:10:17.927960Z",
     "iopub.status.idle": "2021-05-10T19:10:22.876868Z",
     "shell.execute_reply": "2021-05-10T19:10:22.877301Z"
    },
    "papermill": {
     "duration": 5.298229,
     "end_time": "2021-05-10T19:10:22.877470",
     "exception": false,
     "start_time": "2021-05-10T19:10:17.579241",
     "status": "completed"
    },
    "tags": []
   },
   "outputs": [],
   "source": [
    "dblock = DataBlock(blocks = (ImageBlock, MultiCategoryBlock(vocab = single_labels)),\n",
    "                splitter = RandomSplitter(),\n",
    "                get_x = get_image_path,\n",
    "                get_y = ColReader('labels', label_delim = '|'),\n",
    "                item_tfms = item_tfms,\n",
    "                batch_tfms = batch_tfms)\n",
    "\n",
    "dls = dblock.dataloaders(train_df, bs = bs)"
   ]
  },
  {
   "cell_type": "code",
   "execution_count": 15,
   "metadata": {
    "execution": {
     "iopub.execute_input": "2021-05-10T19:10:23.538378Z",
     "iopub.status.busy": "2021-05-10T19:10:23.536678Z",
     "iopub.status.idle": "2021-05-10T19:10:23.539162Z",
     "shell.execute_reply": "2021-05-10T19:10:23.539589Z"
    },
    "papermill": {
     "duration": 0.338041,
     "end_time": "2021-05-10T19:10:23.539727",
     "exception": false,
     "start_time": "2021-05-10T19:10:23.201686",
     "status": "completed"
    },
    "tags": []
   },
   "outputs": [],
   "source": [
    "def create_timm_body(arch:str, pretrained=False, cut=None, n_in=3):\n",
    "    \"Creates a body from any model in the `timm` library.\"\n",
    "    model = create_model(arch, pretrained=pretrained, num_classes=0, global_pool='')\n",
    "    _update_first_layer(model, n_in, pretrained)\n",
    "    if cut is None:\n",
    "        ll = list(enumerate(model.children()))\n",
    "        cut = next(i for i,o in reversed(ll) if has_pool_type(o))\n",
    "    if isinstance(cut, int): return nn.Sequential(*list(model.children())[:cut])\n",
    "    elif callable(cut): return cut(model)\n",
    "    else: raise NamedError(\"cut must be either integer or function\")\n",
    "\n",
    "def create_timm_model(arch:str, n_out, cut=None, pretrained=False, n_in=3, init=nn.init.kaiming_normal_, custom_head=None,\n",
    "                     concat_pool=True, **kwargs):\n",
    "    \"Create custom architecture using `arch`, `n_in` and `n_out` from the `timm` library\"\n",
    "    body = create_timm_body(arch, pretrained, None, n_in)\n",
    "    if custom_head is None:\n",
    "        nf = num_features_model(nn.Sequential(*body.children()))\n",
    "        head = create_head(nf, n_out, concat_pool=concat_pool, **kwargs)\n",
    "    else: head = custom_head\n",
    "    model = nn.Sequential(body, head)\n",
    "    if init is not None: apply_init(model[1], init)\n",
    "    return model\n",
    "\n",
    "def timm_learner(dls, arch:str, loss_func=None, pretrained=False, cut=None, splitter=None,\n",
    "                y_range=None, config=None, n_out=None, normalize=True, **kwargs):\n",
    "    \"Build a convnet style learner from `dls` and `arch` using the `timm` library\"\n",
    "    if config is None: config = {}\n",
    "    if n_out is None: n_out = get_c(dls)\n",
    "    assert n_out, \"`n_out` is not defined, and could not be inferred from data, set `dls.c` or pass `n_out`\"\n",
    "    if y_range is None and 'y_range' in config: y_range = config.pop('y_range')\n",
    "    model = create_timm_model(arch, n_out, default_split, pretrained, y_range=y_range, **config)\n",
    "    learn = Learner(dls, model, loss_func=loss_func, splitter=default_split, **kwargs)\n",
    "    if pretrained: learn.freeze()\n",
    "    return learn"
   ]
  },
  {
   "cell_type": "code",
   "execution_count": 16,
   "metadata": {
    "execution": {
     "iopub.execute_input": "2021-05-10T19:10:24.214961Z",
     "iopub.status.busy": "2021-05-10T19:10:24.214354Z",
     "iopub.status.idle": "2021-05-10T19:10:27.364885Z",
     "shell.execute_reply": "2021-05-10T19:10:27.364383Z"
    },
    "papermill": {
     "duration": 3.492377,
     "end_time": "2021-05-10T19:10:27.365016",
     "exception": false,
     "start_time": "2021-05-10T19:10:23.872639",
     "status": "completed"
    },
    "tags": []
   },
   "outputs": [
    {
     "name": "stderr",
     "output_type": "stream",
     "text": [
      "/opt/conda/lib/python3.7/site-packages/fastai/learner.py:56: UserWarning: Saved filed doesn't contain an optimizer state.\n",
      "  elif with_opt: warn(\"Saved filed doesn't contain an optimizer state.\")\n"
     ]
    }
   ],
   "source": [
    "# First model\n",
    "\n",
    "model_name1 = 'inception_v3'\n",
    "weights1 = '/kaggle/input/submission-data/inv3_gc_resize448r_8epcs_32bs_0.468'\n",
    "learn1 = timm_learner(dls = dls, arch = model_name1, metrics = [accuracy_multi, PrecisionMulti()]).to_fp16()\n",
    "learn1 = learn1.load(weights1)\n",
    "tta = 4"
   ]
  },
  {
   "cell_type": "code",
   "execution_count": 17,
   "metadata": {
    "execution": {
     "iopub.execute_input": "2021-05-10T19:10:28.025723Z",
     "iopub.status.busy": "2021-05-10T19:10:28.025077Z",
     "iopub.status.idle": "2021-05-10T19:20:22.141166Z",
     "shell.execute_reply": "2021-05-10T19:20:22.141652Z"
    },
    "papermill": {
     "duration": 594.452345,
     "end_time": "2021-05-10T19:20:22.141836",
     "exception": false,
     "start_time": "2021-05-10T19:10:27.689491",
     "status": "completed"
    },
    "tags": []
   },
   "outputs": [
    {
     "data": {
      "text/html": [
       "\n",
       "    <div>\n",
       "        <style>\n",
       "            /* Turns off some styling */\n",
       "            progress {\n",
       "                /* gets rid of default border in Firefox and Opera. */\n",
       "                border: none;\n",
       "                /* Needs to be in here for Safari polyfill so background images work as expected. */\n",
       "                background-size: auto;\n",
       "            }\n",
       "            .progress-bar-interrupted, .progress-bar-interrupted::-webkit-progress-bar {\n",
       "                background: #F44336;\n",
       "            }\n",
       "        </style>\n",
       "      <progress value='0' class='' max='1' style='width:300px; height:20px; vertical-align: middle;'></progress>\n",
       "      \n",
       "    </div>\n",
       "    \n"
      ],
      "text/plain": [
       "<IPython.core.display.HTML object>"
      ]
     },
     "metadata": {},
     "output_type": "display_data"
    },
    {
     "data": {
      "text/html": [],
      "text/plain": [
       "<IPython.core.display.HTML object>"
      ]
     },
     "metadata": {},
     "output_type": "display_data"
    }
   ],
   "source": [
    "test_dl1 = learn1.dls.test_dl(out_df)\n",
    "preds1, _ = learn1.tta(dl = test_dl1, n = tta)"
   ]
  },
  {
   "cell_type": "code",
   "execution_count": 18,
   "metadata": {
    "execution": {
     "iopub.execute_input": "2021-05-10T19:20:22.795994Z",
     "iopub.status.busy": "2021-05-10T19:20:22.795279Z",
     "iopub.status.idle": "2021-05-10T19:20:22.799261Z",
     "shell.execute_reply": "2021-05-10T19:20:22.798846Z"
    },
    "papermill": {
     "duration": 0.333918,
     "end_time": "2021-05-10T19:20:22.799387",
     "exception": false,
     "start_time": "2021-05-10T19:20:22.465469",
     "status": "completed"
    },
    "tags": []
   },
   "outputs": [
    {
     "name": "stdout",
     "output_type": "stream",
     "text": [
      "Done model 1\n"
     ]
    }
   ],
   "source": [
    "print('Done model 1')"
   ]
  },
  {
   "cell_type": "code",
   "execution_count": 19,
   "metadata": {
    "execution": {
     "iopub.execute_input": "2021-05-10T19:20:23.462049Z",
     "iopub.status.busy": "2021-05-10T19:20:23.461194Z",
     "iopub.status.idle": "2021-05-10T19:20:24.414413Z",
     "shell.execute_reply": "2021-05-10T19:20:24.413573Z"
    },
    "papermill": {
     "duration": 1.284537,
     "end_time": "2021-05-10T19:20:24.414563",
     "exception": false,
     "start_time": "2021-05-10T19:20:23.130026",
     "status": "completed"
    },
    "tags": []
   },
   "outputs": [],
   "source": [
    "# Second model\n",
    "\n",
    "model_name2 = 'mobilenetv3_large_100'\n",
    "weights2 = '/kaggle/input/submission-data/mbl100_floss'\n",
    "learn2 = timm_learner(dls = dls, arch = model_name2, metrics = [accuracy_multi, PrecisionMulti()]).to_fp16()\n",
    "learn2 = learn2.load(weights2)\n",
    "tta = 4"
   ]
  },
  {
   "cell_type": "code",
   "execution_count": 20,
   "metadata": {
    "execution": {
     "iopub.execute_input": "2021-05-10T19:20:25.076434Z",
     "iopub.status.busy": "2021-05-10T19:20:25.075551Z",
     "iopub.status.idle": "2021-05-10T19:29:39.678796Z",
     "shell.execute_reply": "2021-05-10T19:29:39.676248Z"
    },
    "papermill": {
     "duration": 554.941923,
     "end_time": "2021-05-10T19:29:39.679008",
     "exception": false,
     "start_time": "2021-05-10T19:20:24.737085",
     "status": "completed"
    },
    "tags": []
   },
   "outputs": [
    {
     "data": {
      "text/html": [
       "\n",
       "    <div>\n",
       "        <style>\n",
       "            /* Turns off some styling */\n",
       "            progress {\n",
       "                /* gets rid of default border in Firefox and Opera. */\n",
       "                border: none;\n",
       "                /* Needs to be in here for Safari polyfill so background images work as expected. */\n",
       "                background-size: auto;\n",
       "            }\n",
       "            .progress-bar-interrupted, .progress-bar-interrupted::-webkit-progress-bar {\n",
       "                background: #F44336;\n",
       "            }\n",
       "        </style>\n",
       "      <progress value='0' class='' max='1' style='width:300px; height:20px; vertical-align: middle;'></progress>\n",
       "      \n",
       "    </div>\n",
       "    \n"
      ],
      "text/plain": [
       "<IPython.core.display.HTML object>"
      ]
     },
     "metadata": {},
     "output_type": "display_data"
    },
    {
     "data": {
      "text/html": [],
      "text/plain": [
       "<IPython.core.display.HTML object>"
      ]
     },
     "metadata": {},
     "output_type": "display_data"
    }
   ],
   "source": [
    "test_dl2 = learn2.dls.test_dl(out_df)\n",
    "preds2, _ = learn2.tta(dl = test_dl2, n = tta)"
   ]
  },
  {
   "cell_type": "code",
   "execution_count": 21,
   "metadata": {
    "execution": {
     "iopub.execute_input": "2021-05-10T19:29:40.608373Z",
     "iopub.status.busy": "2021-05-10T19:29:40.607666Z",
     "iopub.status.idle": "2021-05-10T19:29:40.610662Z",
     "shell.execute_reply": "2021-05-10T19:29:40.611063Z"
    },
    "papermill": {
     "duration": 0.343047,
     "end_time": "2021-05-10T19:29:40.611193",
     "exception": false,
     "start_time": "2021-05-10T19:29:40.268146",
     "status": "completed"
    },
    "tags": []
   },
   "outputs": [
    {
     "name": "stdout",
     "output_type": "stream",
     "text": [
      "Done model 2\n"
     ]
    }
   ],
   "source": [
    "print('Done model 2')"
   ]
  },
  {
   "cell_type": "code",
   "execution_count": 22,
   "metadata": {
    "execution": {
     "iopub.execute_input": "2021-05-10T19:29:41.279676Z",
     "iopub.status.busy": "2021-05-10T19:29:41.278550Z",
     "iopub.status.idle": "2021-05-10T19:29:41.281951Z",
     "shell.execute_reply": "2021-05-10T19:29:41.281452Z"
    },
    "papermill": {
     "duration": 0.341742,
     "end_time": "2021-05-10T19:29:41.282079",
     "exception": false,
     "start_time": "2021-05-10T19:29:40.940337",
     "status": "completed"
    },
    "tags": []
   },
   "outputs": [],
   "source": [
    "preds_c = ((preds1 + preds2) / 2).numpy()"
   ]
  },
  {
   "cell_type": "code",
   "execution_count": 23,
   "metadata": {
    "execution": {
     "iopub.execute_input": "2021-05-10T19:29:41.991911Z",
     "iopub.status.busy": "2021-05-10T19:29:41.990881Z",
     "iopub.status.idle": "2021-05-10T19:29:44.044679Z",
     "shell.execute_reply": "2021-05-10T19:29:44.044121Z"
    },
    "papermill": {
     "duration": 2.418788,
     "end_time": "2021-05-10T19:29:44.044815",
     "exception": false,
     "start_time": "2021-05-10T19:29:41.626027",
     "status": "completed"
    },
    "tags": []
   },
   "outputs": [],
   "source": [
    "# Third model - image level\n",
    "\n",
    "model_name3 = 'efficientnet_b3'\n",
    "weights3 = '/kaggle/input/submission-data/efficientnet_b3'\n",
    "learn3 = timm_learner(dls = dls, arch = model_name3, metrics = [accuracy_multi, PrecisionMulti()]).to_fp16()\n",
    "learn3 = learn3.load(weights3)\n",
    "tta = 4"
   ]
  },
  {
   "cell_type": "code",
   "execution_count": 24,
   "metadata": {
    "execution": {
     "iopub.execute_input": "2021-05-10T19:29:44.736851Z",
     "iopub.status.busy": "2021-05-10T19:29:44.735126Z",
     "iopub.status.idle": "2021-05-10T19:29:44.737604Z",
     "shell.execute_reply": "2021-05-10T19:29:44.738054Z"
    },
    "papermill": {
     "duration": 0.354543,
     "end_time": "2021-05-10T19:29:44.738193",
     "exception": false,
     "start_time": "2021-05-10T19:29:44.383650",
     "status": "completed"
    },
    "tags": []
   },
   "outputs": [],
   "source": [
    "sub_df['fname'] = sub_df['Image'].apply(lambda x: out_path + '/' + x + '.png')"
   ]
  },
  {
   "cell_type": "code",
   "execution_count": 25,
   "metadata": {
    "execution": {
     "iopub.execute_input": "2021-05-10T19:29:45.428287Z",
     "iopub.status.busy": "2021-05-10T19:29:45.427351Z",
     "iopub.status.idle": "2021-05-10T19:30:14.055577Z",
     "shell.execute_reply": "2021-05-10T19:30:14.055080Z"
    },
    "papermill": {
     "duration": 28.977813,
     "end_time": "2021-05-10T19:30:14.055710",
     "exception": false,
     "start_time": "2021-05-10T19:29:45.077897",
     "status": "completed"
    },
    "tags": []
   },
   "outputs": [
    {
     "data": {
      "text/html": [
       "\n",
       "    <div>\n",
       "        <style>\n",
       "            /* Turns off some styling */\n",
       "            progress {\n",
       "                /* gets rid of default border in Firefox and Opera. */\n",
       "                border: none;\n",
       "                /* Needs to be in here for Safari polyfill so background images work as expected. */\n",
       "                background-size: auto;\n",
       "            }\n",
       "            .progress-bar-interrupted, .progress-bar-interrupted::-webkit-progress-bar {\n",
       "                background: #F44336;\n",
       "            }\n",
       "        </style>\n",
       "      <progress value='0' class='' max='1' style='width:300px; height:20px; vertical-align: middle;'></progress>\n",
       "      \n",
       "    </div>\n",
       "    \n"
      ],
      "text/plain": [
       "<IPython.core.display.HTML object>"
      ]
     },
     "metadata": {},
     "output_type": "display_data"
    },
    {
     "data": {
      "text/html": [],
      "text/plain": [
       "<IPython.core.display.HTML object>"
      ]
     },
     "metadata": {},
     "output_type": "display_data"
    }
   ],
   "source": [
    "test_dl3 = learn3.dls.test_dl(sub_df)\n",
    "preds3, _ = learn3.tta(dl = test_dl3, n = tta)"
   ]
  },
  {
   "cell_type": "code",
   "execution_count": 26,
   "metadata": {
    "execution": {
     "iopub.execute_input": "2021-05-10T19:30:14.763010Z",
     "iopub.status.busy": "2021-05-10T19:30:14.762327Z",
     "iopub.status.idle": "2021-05-10T19:30:21.517985Z",
     "shell.execute_reply": "2021-05-10T19:30:21.517467Z"
    },
    "papermill": {
     "duration": 7.116234,
     "end_time": "2021-05-10T19:30:21.518107",
     "exception": false,
     "start_time": "2021-05-10T19:30:14.401873",
     "status": "completed"
    },
    "tags": []
   },
   "outputs": [
    {
     "name": "stderr",
     "output_type": "stream",
     "text": [
      "100%|██████████| 10716/10716 [00:06<00:00, 1590.26it/s]\n"
     ]
    }
   ],
   "source": [
    "sa = pd.read_csv('../input/hpa-single-cell-image-classification/sample_submission.csv')\n",
    "slide_preds = []\n",
    "\n",
    "for idx, row in tqdm(out_df.iterrows(), total = len(out_df)):\n",
    "    test_idx = sa[sa['ID'] == row.img_id].index.values[0]\n",
    "    slide_preds.append(preds3[test_idx].numpy())"
   ]
  },
  {
   "cell_type": "code",
   "execution_count": 27,
   "metadata": {
    "execution": {
     "iopub.execute_input": "2021-05-10T19:30:22.239125Z",
     "iopub.status.busy": "2021-05-10T19:30:22.238275Z",
     "iopub.status.idle": "2021-05-10T19:30:22.247876Z",
     "shell.execute_reply": "2021-05-10T19:30:22.247445Z"
    },
    "papermill": {
     "duration": 0.372259,
     "end_time": "2021-05-10T19:30:22.247991",
     "exception": false,
     "start_time": "2021-05-10T19:30:21.875732",
     "status": "completed"
    },
    "tags": []
   },
   "outputs": [],
   "source": [
    "preds = (preds_c + slide_preds) / 2"
   ]
  },
  {
   "cell_type": "code",
   "execution_count": 28,
   "metadata": {
    "execution": {
     "iopub.execute_input": "2021-05-10T19:30:22.964296Z",
     "iopub.status.busy": "2021-05-10T19:30:22.962691Z",
     "iopub.status.idle": "2021-05-10T19:30:22.965174Z",
     "shell.execute_reply": "2021-05-10T19:30:22.965673Z"
    },
    "papermill": {
     "duration": 0.366209,
     "end_time": "2021-05-10T19:30:22.965835",
     "exception": false,
     "start_time": "2021-05-10T19:30:22.599626",
     "status": "completed"
    },
    "tags": []
   },
   "outputs": [],
   "source": [
    "out_df['pred_enc'] = np.nan\n",
    "out_df = out_df.reset_index(drop = True)"
   ]
  },
  {
   "cell_type": "code",
   "execution_count": 29,
   "metadata": {
    "execution": {
     "iopub.execute_input": "2021-05-10T19:30:23.758234Z",
     "iopub.status.busy": "2021-05-10T19:30:23.757396Z",
     "iopub.status.idle": "2021-05-10T19:30:29.503721Z",
     "shell.execute_reply": "2021-05-10T19:30:29.503216Z"
    },
    "papermill": {
     "duration": 6.175086,
     "end_time": "2021-05-10T19:30:29.503840",
     "exception": false,
     "start_time": "2021-05-10T19:30:23.328754",
     "status": "completed"
    },
    "tags": []
   },
   "outputs": [
    {
     "name": "stderr",
     "output_type": "stream",
     "text": [
      "100%|██████████| 10716/10716 [00:05<00:00, 1866.60it/s]\n"
     ]
    }
   ],
   "source": [
    "for idx, row in tqdm(out_df.iterrows(), total = len(out_df)):\n",
    "    pred_enc_string = \"\"\n",
    "    \n",
    "    for p_idx, pred in enumerate(preds[idx]):\n",
    "        pred_enc_string += str(p_idx) + \" \" + str(float(preds[idx][p_idx])) + \" \" + row.enc + \" \"\n",
    "    \n",
    "    out_df.iloc[idx, len(out_df.columns) - 1] = pred_enc_string"
   ]
  },
  {
   "cell_type": "code",
   "execution_count": 30,
   "metadata": {
    "execution": {
     "iopub.execute_input": "2021-05-10T19:30:30.263552Z",
     "iopub.status.busy": "2021-05-10T19:30:30.262638Z",
     "iopub.status.idle": "2021-05-10T19:30:30.279436Z",
     "shell.execute_reply": "2021-05-10T19:30:30.278903Z"
    },
    "papermill": {
     "duration": 0.398228,
     "end_time": "2021-05-10T19:30:30.279587",
     "exception": false,
     "start_time": "2021-05-10T19:30:29.881359",
     "status": "completed"
    },
    "tags": []
   },
   "outputs": [
    {
     "data": {
      "text/html": [
       "<div>\n",
       "<style scoped>\n",
       "    .dataframe tbody tr th:only-of-type {\n",
       "        vertical-align: middle;\n",
       "    }\n",
       "\n",
       "    .dataframe tbody tr th {\n",
       "        vertical-align: top;\n",
       "    }\n",
       "\n",
       "    .dataframe thead th {\n",
       "        text-align: right;\n",
       "    }\n",
       "</style>\n",
       "<table border=\"1\" class=\"dataframe\">\n",
       "  <thead>\n",
       "    <tr style=\"text-align: right;\">\n",
       "      <th></th>\n",
       "      <th>ID</th>\n",
       "      <th>ImageWidth</th>\n",
       "      <th>ImageHeight</th>\n",
       "      <th>PredictionString</th>\n",
       "    </tr>\n",
       "  </thead>\n",
       "  <tbody>\n",
       "    <tr>\n",
       "      <th>0</th>\n",
       "      <td>0040581b-f1f2-4fbe-b043-b6bfea5404bb</td>\n",
       "      <td>2048</td>\n",
       "      <td>2048</td>\n",
       "      <td>NaN</td>\n",
       "    </tr>\n",
       "    <tr>\n",
       "      <th>1</th>\n",
       "      <td>004a270d-34a2-4d60-bbe4-365fca868193</td>\n",
       "      <td>2048</td>\n",
       "      <td>2048</td>\n",
       "      <td>NaN</td>\n",
       "    </tr>\n",
       "    <tr>\n",
       "      <th>2</th>\n",
       "      <td>00537262-883c-4b37-a3a1-a4931b6faea5</td>\n",
       "      <td>2048</td>\n",
       "      <td>2048</td>\n",
       "      <td>NaN</td>\n",
       "    </tr>\n",
       "    <tr>\n",
       "      <th>3</th>\n",
       "      <td>00c9a1c9-2f06-476f-8b0d-6d01032874a2</td>\n",
       "      <td>2048</td>\n",
       "      <td>2048</td>\n",
       "      <td>NaN</td>\n",
       "    </tr>\n",
       "    <tr>\n",
       "      <th>4</th>\n",
       "      <td>0173029a-161d-40ef-af28-2342915b22fb</td>\n",
       "      <td>3072</td>\n",
       "      <td>3072</td>\n",
       "      <td>NaN</td>\n",
       "    </tr>\n",
       "  </tbody>\n",
       "</table>\n",
       "</div>"
      ],
      "text/plain": [
       "                                     ID  ImageWidth  ImageHeight  \\\n",
       "0  0040581b-f1f2-4fbe-b043-b6bfea5404bb        2048         2048   \n",
       "1  004a270d-34a2-4d60-bbe4-365fca868193        2048         2048   \n",
       "2  00537262-883c-4b37-a3a1-a4931b6faea5        2048         2048   \n",
       "3  00c9a1c9-2f06-476f-8b0d-6d01032874a2        2048         2048   \n",
       "4  0173029a-161d-40ef-af28-2342915b22fb        3072         3072   \n",
       "\n",
       "   PredictionString  \n",
       "0               NaN  \n",
       "1               NaN  \n",
       "2               NaN  \n",
       "3               NaN  \n",
       "4               NaN  "
      ]
     },
     "execution_count": 30,
     "metadata": {},
     "output_type": "execute_result"
    }
   ],
   "source": [
    "sample_df = pd.read_csv('../input/hpa-single-cell-image-classification/sample_submission.csv')\n",
    "sample_df = sample_df[['ID', 'ImageWidth', 'ImageHeight']]\n",
    "sample_df['PredictionString'] = np.nan\n",
    "sample_df.head()"
   ]
  },
  {
   "cell_type": "code",
   "execution_count": 31,
   "metadata": {
    "execution": {
     "iopub.execute_input": "2021-05-10T19:30:31.037264Z",
     "iopub.status.busy": "2021-05-10T19:30:31.036366Z",
     "iopub.status.idle": "2021-05-10T19:30:32.538090Z",
     "shell.execute_reply": "2021-05-10T19:30:32.537635Z"
    },
    "papermill": {
     "duration": 1.888097,
     "end_time": "2021-05-10T19:30:32.538223",
     "exception": false,
     "start_time": "2021-05-10T19:30:30.650126",
     "status": "completed"
    },
    "tags": []
   },
   "outputs": [
    {
     "name": "stderr",
     "output_type": "stream",
     "text": [
      "100%|██████████| 559/559 [00:01<00:00, 373.69it/s]\n"
     ]
    }
   ],
   "source": [
    "for idx, row in tqdm(sample_df.iterrows(), total = len(sample_df)):\n",
    "    sub_df = out_df[out_df['img_id'] == row.ID]\n",
    "    enc_strs = sub_df.pred_enc.values\n",
    "    sample_df.iloc[idx, 3] = \" \".join(enc_strs)"
   ]
  },
  {
   "cell_type": "code",
   "execution_count": 32,
   "metadata": {
    "execution": {
     "iopub.execute_input": "2021-05-10T19:30:33.313158Z",
     "iopub.status.busy": "2021-05-10T19:30:33.312507Z",
     "iopub.status.idle": "2021-05-10T19:30:33.317249Z",
     "shell.execute_reply": "2021-05-10T19:30:33.316784Z"
    },
    "papermill": {
     "duration": 0.39233,
     "end_time": "2021-05-10T19:30:33.317368",
     "exception": false,
     "start_time": "2021-05-10T19:30:32.925038",
     "status": "completed"
    },
    "tags": []
   },
   "outputs": [
    {
     "name": "stdout",
     "output_type": "stream",
     "text": [
      "Done making df\n"
     ]
    }
   ],
   "source": [
    "print('Done making df')"
   ]
  },
  {
   "cell_type": "code",
   "execution_count": 33,
   "metadata": {
    "execution": {
     "iopub.execute_input": "2021-05-10T19:30:34.122051Z",
     "iopub.status.busy": "2021-05-10T19:30:34.106952Z",
     "iopub.status.idle": "2021-05-10T19:30:34.126615Z",
     "shell.execute_reply": "2021-05-10T19:30:34.126001Z"
    },
    "papermill": {
     "duration": 0.426409,
     "end_time": "2021-05-10T19:30:34.126752",
     "exception": false,
     "start_time": "2021-05-10T19:30:33.700343",
     "status": "completed"
    },
    "tags": []
   },
   "outputs": [
    {
     "data": {
      "text/html": [
       "<div>\n",
       "<style scoped>\n",
       "    .dataframe tbody tr th:only-of-type {\n",
       "        vertical-align: middle;\n",
       "    }\n",
       "\n",
       "    .dataframe tbody tr th {\n",
       "        vertical-align: top;\n",
       "    }\n",
       "\n",
       "    .dataframe thead th {\n",
       "        text-align: right;\n",
       "    }\n",
       "</style>\n",
       "<table border=\"1\" class=\"dataframe\">\n",
       "  <thead>\n",
       "    <tr style=\"text-align: right;\">\n",
       "      <th></th>\n",
       "      <th>ID</th>\n",
       "      <th>ImageWidth</th>\n",
       "      <th>ImageHeight</th>\n",
       "      <th>PredictionString</th>\n",
       "    </tr>\n",
       "  </thead>\n",
       "  <tbody>\n",
       "    <tr>\n",
       "      <th>0</th>\n",
       "      <td>0040581b-f1f2-4fbe-b043-b6bfea5404bb</td>\n",
       "      <td>2048</td>\n",
       "      <td>2048</td>\n",
       "      <td>0 0.28665125370025635 eNqtVm2PojAQ/ksMZe+Sy21yubtc4gKDIkpBUJQ3KyD//9t1KPhu1M22Rp9Op0+n0+mM87cMoj1osoHmgDN8aeCormcu7nBXgQ+ehxXWFczA9bDBPaF6ihPHrWECyRR/hTV4ulyuSLqm0GFMxOpDvRP18Ep+tynLSBV1RzGc8BzGg16HSIq67ArBrfnL9Zp2i/y2fHCXkg/EEndH0wZn4nGL83Un/cxvL5z/znmGbR/547j9q357wNPbeTj+eVfOUeZqzsl659RF2iFSDuMhWAaL5B79fB9lpOKPFk7p41Zbv9liAz9nMf6tN/Duxvin3UCiNRH+8lIotTxC7kQpCC2NcO4sU6i0dYSek6TQanGEYyeTMn0domcnOTT6MsSpneaw16MQJ3aeg8t4iI0lcghZG2BhuQUsWB1gbs0KiJgIMLN4ASuWB5hYUQEFiwMMrayAkoUBBlZZwJb5AXJrV4BgXoC+1RRQsUmAnjUuoWEtR9dyS2hZw3FseSVMDcGxNnkJcyPnKMy4BG5sOBZmUsLCWHHMzE0JsRFxTM28hKURcNyY2xJWxpzj2qxKSI...</td>\n",
       "    </tr>\n",
       "    <tr>\n",
       "      <th>1</th>\n",
       "      <td>004a270d-34a2-4d60-bbe4-365fca868193</td>\n",
       "      <td>2048</td>\n",
       "      <td>2048</td>\n",
       "      <td>0 0.07058369368314743 eNoLCEhJMAgwDMg3NPQ39Df2tXaF0PaOENrYF0Kbe6LyrdxAtKG/kR+Eb+aFyoeZA1OPLg+hcUMDAxAGkRAeJp9yALEKwsInjspHdyoheWLV43IPbnnS7MUO/Yz8jJBt8Db1NYaIE9IHUedqjareywzC9zSH0MAEAKIDA2JyjADDeJGw 1 0.03284187614917755 eNoLCEhJMAgwDMg3NPQ39Df2tXaF0PaOENrYF0Kbe6LyrdxAtKG/kR+Eb+aFyoeZA1OPLg+hcUMDAxAGkRAeJp9yALEKwsInjspHdyoheWLV43IPbnnS7MUO/Yz8jJBt8Db1NYaIE9IHUedqjareywzC9zSH0MAEAKIDA2JyjADDeJGw 2 0.056898247450590134 eNoLCEhJMAgwDMg3NPQ39Df2tXaF0PaOENrYF0Kbe6LyrdxAtKG/kR+Eb+aFyoeZA1OPLg+hcUMDAxAGkRAeJp9yALEKwsInjspHdyoheWLV43IPbnnS7MUO/Yz8jJBt8Db1NYaIE9IHUedqjareywzC9zSH0MAEAKIDA2JyjADDeJG...</td>\n",
       "    </tr>\n",
       "    <tr>\n",
       "      <th>2</th>\n",
       "      <td>00537262-883c-4b37-a3a1-a4931b6faea5</td>\n",
       "      <td>2048</td>\n",
       "      <td>2048</td>\n",
       "      <td>0 0.04897116497159004 eNqFUE0LwjAM/UtJuqlM8AsUN9fWgzcVlDEPMvD/32yS1m2IuLC8vOSlafM4dlC0LySP3tQn7Bw58sbOt8gZu1wrTkvFBq5eozO2TqOgBYDQZwMH+miNVSTRoQ8ourxiHXhyX/UR/2uOxMeTg2dDZxjrrM4S/ugH4J99Yj+Nr13syIlchoWh0gRcFCfB8NNkSie95D2PxsiGYwb68UUxTuPlUP/4tAh9elqB18i4WOETmB9kJdZEJa+670zdoS6rC94mbrhW59q/nwnPy0klfHUDSUxWC0lkG8X7s7mYNwcdlKw= 1 0.013224027119576931 eNqFUE0LwjAM/UtJuqlM8AsUN9fWgzcVlDEPMvD/32yS1m2IuLC8vOSlafM4dlC0LySP3tQn7Bw58sbOt8gZu1wrTkvFBq5eozO2TqOgBYDQZwMH+miNVSTRoQ8ourxiHXhyX/UR/2uOxMeTg2dDZxjrrM4S/ugH4J99Yj+Nr13syIlchoWh0gRcFCfB8NNkSie95D2PxsiGYwb68UUxTuPlUP/4tAh9elqB18i4WOETmB9kJdZEJa...</td>\n",
       "    </tr>\n",
       "    <tr>\n",
       "      <th>3</th>\n",
       "      <td>00c9a1c9-2f06-476f-8b0d-6d01032874a2</td>\n",
       "      <td>2048</td>\n",
       "      <td>2048</td>\n",
       "      <td>0 0.03800433129072189 eNrtVUtvwjAM/ktxAutp2mGXDhpHGpDCxvuZQtn+/21OnZQCEkyaNO2wWIqftROr/lL0bQ+eFp+gNKAkAiEM7YYIpd+1Yn4iiuAoifyV4vjKwlalH59bXf+dzJTfOR95SEIIFap65KvyiWA/q0+SbnXadT3SqRpHhZp0vocO5YiW2hNJAOev/eJal6bdBX8b1uNqxPlzK02nPIuICbSK5opf5r9c9/z3luH7Vh0xtwLB8F71Ia5Zjtt07OAtWf9M2qXvDkbJJsePtO/gNSl/WzqmAwe95JBjmVoH/WT/L/1JaZA4Lw0dTJPv/+ZhhLUUIJpzfRq3xjiBuRwoBq7bFW44PYydA4qPbwxSc47F2dyHvCjD8NXBgK1MYoBDE0c0wmdVL8LfLTohT5Su9bqkPzajYNCNYGgts4nFzqYAubDYnReglhazGekri3pagNlZFKMCsoNFZQvolhZbgwI6R+bpMEcsHOAkR7N2YKY5ihXpM+Z6kSPMiS9zlDMH2arBxyW8cDPChQVhvW+AfyWqFvH7sHXHPXwBvVrJXQ== 1 0.00746390642598271...</td>\n",
       "    </tr>\n",
       "    <tr>\n",
       "      <th>4</th>\n",
       "      <td>0173029a-161d-40ef-af28-2342915b22fb</td>\n",
       "      <td>3072</td>\n",
       "      <td>3072</td>\n",
       "      <td>0 0.2537965476512909 eNqtlFuXmjAQgP8SDOgB2peeLsueXccgbgWRiwKRYBf2/781AYOKaN2eJmq+uSSZTCYqq51ySEDhTSXdr+hyvN1v+Q/117JsX9U/an+oVRlGMfFiKDKlkUwz5aPl9xiqTCGTN+ke/EgL3GE+p2YTQflCC0y4xEwWQfVSFhhzqTL3QqoKjLj028wj2DtViWvDD6Bw6hI3xlJQU2JkeAHkjss4uQHsnCXD1Kh9SJwVw8w4+BA7gSAmaM0wN0ofVs6W4cHY+rB0coa1EfvgCfoU5DoFQ9dcpaAQReVht/khIC9N5o7r1C/mq5sglzndxKh+xJ904cx0Me1f97tuczg5jJ1tFm/w8FQU8OubPl5LfQ2pP9cbTG1WQGqFG9zapSCu2/UU2qqyL2AveG1rChUcCP0tXlCg1meIG9ujUFhNiJG9pJBbdYjxKL1TyKyPEJMhTQcPavgcYH7+OIde44cPQqztPQXXCkN0n0sKn+Y6xMUzo9CY3OqdkabEgrf3OaFQm2mIy2tuzFjwhHD2rCzExr5PWwoLKxGR5RRW1ums8uL4VyUaPlLA3G9+nRvUumr...</td>\n",
       "    </tr>\n",
       "    <tr>\n",
       "      <th>...</th>\n",
       "      <td>...</td>\n",
       "      <td>...</td>\n",
       "      <td>...</td>\n",
       "      <td>...</td>\n",
       "    </tr>\n",
       "    <tr>\n",
       "      <th>554</th>\n",
       "      <td>fea47298-266a-4cf4-93bd-55d1bcc2fc7d</td>\n",
       "      <td>1728</td>\n",
       "      <td>1728</td>\n",
       "      <td>0 0.10701867192983627 eNqFUNsOgjAM/aV1XMQ/gOHa4P1BECTGS4L+/5uMrhEv0TZZu3NO262rw6nUG31uQaPGMJ+mfZzF+VHtiJHQOiQ0MWoCAgQauQ0Y9a6U6g/oAym5eXPZSMKRM9LkdaBcJBD90MjpFMNSD0N/ac59PF/u8W62NRTRxWXrGubRdY83s6ph6bDObGqoIv/iNOH6D+d/2VkEv/lQq/EeDOttkE14P1mCQyyp5dcS5MNwWUzeNnhKywrWk+SJfjP5r1O5cTzylRPr2UWDRdZVcIsDQW3wOkHu7/h//gE0yobA 1 0.036053698509931564 eNqFUNsOgjAM/aV1XMQ/gOHa4P1BECTGS4L+/5uMrhEv0TZZu3NO262rw6nUG31uQaPGMJ+mfZzF+VHtiJHQOiQ0MWoCAgQauQ0Y9a6U6g/oAym5eXPZSMKRM9LkdaBcJBD90MjpFMNSD0N/ac59PF/u8W62NRTRxWXrGubRdY83s6ph6bDObGqoIv/iNOH6D+d/2VkEv/lQq/EeDOttkE14P1mCQyyp5dcS5MNwWUzeNnhKywrWk+SJfjP5r1...</td>\n",
       "    </tr>\n",
       "    <tr>\n",
       "      <th>555</th>\n",
       "      <td>feb955db-6c07-4717-a98b-92236c8e01d8</td>\n",
       "      <td>2048</td>\n",
       "      <td>2048</td>\n",
       "      <td>0 0.05905895680189133 eNqVld3O4jYQhm8p43RpqLqV2gpQ98OTHydxnBAgCTjOD8n9n3UG0H6rVqpUOOB5ZzyO7XdivO6r+nI/rAlUQfzA/0WnIHrg7RApqIN1xu4QKzgHy4ztIVHQBNOMl0OmwAW3GYvDScEQtExnpmZGfbgomIPzjOmhVbAG5YzJwTIVTI4pZxoVxFs147p/KCi284Run6ZgtiNTzjRM2O91CqetnfC2L1O4bNsJ2/2Z6cp0ZToztSk023LC696mMG2XEfN9khHNI+q9ymDcTkxZBvP2zlRlUPuZw1Qm4sNlsIiTw0yOEA5UJy4Oc2kBxgycaB0aeQZ/pRoxOxzkx+gVGkqIB5zlbvG0hgzyAR/y98UrNaSgB4zQhKt31TB6lwFXPwovu0bDZdMNuPgJqZOGdnOjsqeqNHSbO81I6rozGprNwLk4PO8KHjm+Zqk4d+fc6q9YsrKcW56q4NxjwOlZpzTcNutLNbuInxCNpBJSS04qGXF8qkdOT0hZqbDbDayyEZ2fvZTdxCNaX9OcVLfw0zu/Cmuui352A55E63X7nk6S1/JdvXPOwE0WFisxGL...</td>\n",
       "    </tr>\n",
       "    <tr>\n",
       "      <th>556</th>\n",
       "      <td>fefb9bb7-934a-40d1-8d2f-210265857388</td>\n",
       "      <td>2048</td>\n",
       "      <td>2048</td>\n",
       "      <td>0 0.3752194046974182 eNqtUrsOwjAM/CU7aXmIGaE+kiAVCbrBUhBL/3+D1LLyoAqlxR1O9tnO2e4T7tu2QzAIbzNInxZKWlRyvwPf0IQeGqGp0BYEqUOzKo+jab7OWELM88taEMtYrghhGKE4tfp86Dt8bHKOASj5qc6xvqdksabRqb+/ihBjnn1W7haa5t3S4/jcvN/91IWW5P37nW+2tM94ffpu8f/h7jz9XlP1z51vRPcVGnODMtNCyyqrLV765ihfFO3iQw== 1 0.024166949093341827 eNqtUrsOwjAM/CU7aXmIGaE+kiAVCbrBUhBL/3+D1LLyoAqlxR1O9tnO2e4T7tu2QzAIbzNInxZKWlRyvwPf0IQeGqGp0BYEqUOzKo+jab7OWELM88taEMtYrghhGKE4tfp86Dt8bHKOASj5qc6xvqdksabRqb+/ihBjnn1W7haa5t3S4/jcvN/91IWW5P37nW+2tM94ffpu8f/h7jz9XlP1z51vRPcVGnODMtNCyyqrLV765ihfFO3iQw== 2 0.4591830372810364 eNqtUrsOwjAM/CU7aXmIGaE+k...</td>\n",
       "    </tr>\n",
       "    <tr>\n",
       "      <th>557</th>\n",
       "      <td>ff069fa2-d948-408e-91b3-034cfea428d1</td>\n",
       "      <td>3072</td>\n",
       "      <td>3072</td>\n",
       "      <td>0 0.6032495498657227 eNq1FV1vgjDwL5WjsCWLT9sysVyJnQjqnDpxrQr8/8e1dGRhWwT86CW97zuuV3pqMk1hDasCgEPoz6MDGVbU4448aYJT5oWV4GUwrPiQhg35yEOD6fMDN3JAl1e8xf+AE9VQ0dzauyO/yaNrbFBj4kREL+tjqVN8HZ20+v1el+r72p1rf6lf33W9PLY1luqib+Pb4vbNd626zq3jsn78ldfRf/jbnMdpP6s1T4P9pTnUT4DVNfm+59XF/1Z9v3R1/Y5u9ztymtDUm5M3e4EixXE4VpC7cYolKyWM6STFghUSBNWynOUSXmmWYsK2EhTdpCjYh4SCrrUv20gojUyNch5mChbevrWIrpf23Ef2FF+DHibYxPU4qu3jYJLg1j8qeAuSBDNf6eqCeYI7f6cgDVYJSr9U8O1iAt0FZnfRYy7eL1kWo3BXB1ChjHEahZm7zEGPUpPR7DojAeP2jkrgwJFkVsAnzw19JKqAI58LjB1ZgOILgYkzKyEizKuGK6AdtKabh70S9AtNnbrg 1 0.02883262373507023 eNq1FV1vgjDwL5WjsCWLT9sy...</td>\n",
       "    </tr>\n",
       "    <tr>\n",
       "      <th>558</th>\n",
       "      <td>ff23eea9-4bbe-42af-a8da-9ae16321fc6d</td>\n",
       "      <td>2048</td>\n",
       "      <td>2048</td>\n",
       "      <td>0 0.06860875338315964 eNqdkttymzAQhl9JP6Q1k0zaaaYuTWpWNsYJlg0rjIUPmPL+d5WsusRpriIu9H970mqRmIdtMJNzg150ij6oTmK6okxODVoxW9FC9ttXtgx7RSfKDRbYKWppafCMRtGRlMEStaIdFQZraEVb0gYFWFFNlUHpVOXUBoWigmqDI14ULWgZ7EiVWIRrpszSwVHmaG6p9b4VU5/kQSotpaFi6pIO8aZEEWgHJ/ysS6wdnCw81c5TMB1tmLSwCTKmKjGix55RiYppc6YDQwubVZ/p6HxrR41Ig5bxZcm0TaJ9kGuMSybj9FLju63dOK2sPWc6OF1oqNuOICHDJDjv/3/i3/L6rXVY76ZDyUYkoVOTG4khuqWGST+UGnyfapo99Izf93OnurP6m5+ELtvXF2Jy42t5rid2Sk180niJ7Izr+KCxjuwISmeromemIm419iPWtI83jEW01bSLC0YeGU3buGSsnK2KmZFFvYtLXVxW2biutHGl7Xt858+97N+++t13J0GB7/bp83Xc4+jaT4HnYRKPI68v++W247trfuu/MOSPW1/P/RVvS2Wf2leedf...</td>\n",
       "    </tr>\n",
       "  </tbody>\n",
       "</table>\n",
       "<p>559 rows × 4 columns</p>\n",
       "</div>"
      ],
      "text/plain": [
       "                                       ID  ImageWidth  ImageHeight  \\\n",
       "0    0040581b-f1f2-4fbe-b043-b6bfea5404bb        2048         2048   \n",
       "1    004a270d-34a2-4d60-bbe4-365fca868193        2048         2048   \n",
       "2    00537262-883c-4b37-a3a1-a4931b6faea5        2048         2048   \n",
       "3    00c9a1c9-2f06-476f-8b0d-6d01032874a2        2048         2048   \n",
       "4    0173029a-161d-40ef-af28-2342915b22fb        3072         3072   \n",
       "..                                    ...         ...          ...   \n",
       "554  fea47298-266a-4cf4-93bd-55d1bcc2fc7d        1728         1728   \n",
       "555  feb955db-6c07-4717-a98b-92236c8e01d8        2048         2048   \n",
       "556  fefb9bb7-934a-40d1-8d2f-210265857388        2048         2048   \n",
       "557  ff069fa2-d948-408e-91b3-034cfea428d1        3072         3072   \n",
       "558  ff23eea9-4bbe-42af-a8da-9ae16321fc6d        2048         2048   \n",
       "\n",
       "                                                                                                                                                                                                                                                                                                                                                                                                                                                                                                                                                                                                            PredictionString  \n",
       "0    0 0.28665125370025635 eNqtVm2PojAQ/ksMZe+Sy21yubtc4gKDIkpBUJQ3KyD//9t1KPhu1M22Rp9Op0+n0+mM87cMoj1osoHmgDN8aeCormcu7nBXgQ+ehxXWFczA9bDBPaF6ihPHrWECyRR/hTV4ulyuSLqm0GFMxOpDvRP18Ep+tynLSBV1RzGc8BzGg16HSIq67ArBrfnL9Zp2i/y2fHCXkg/EEndH0wZn4nGL83Un/cxvL5z/znmGbR/547j9q357wNPbeTj+eVfOUeZqzsl659RF2iFSDuMhWAaL5B79fB9lpOKPFk7p41Zbv9liAz9nMf6tN/Duxvin3UCiNRH+8lIotTxC7kQpCC2NcO4sU6i0dYSek6TQanGEYyeTMn0domcnOTT6MsSpneaw16MQJ3aeg8t4iI0lcghZG2BhuQUsWB1gbs0KiJgIMLN4ASuWB5hYUQEFiwMMrayAkoUBBlZZwJb5AXJrV4BgXoC+1RRQsUmAnjUuoWEtR9dyS2hZw3FseSVMDcGxNnkJcyPnKMy4BG5sOBZmUsLCWHHMzE0JsRFxTM28hKURcNyY2xJWxpzj2qxKSI...  \n",
       "1    0 0.07058369368314743 eNoLCEhJMAgwDMg3NPQ39Df2tXaF0PaOENrYF0Kbe6LyrdxAtKG/kR+Eb+aFyoeZA1OPLg+hcUMDAxAGkRAeJp9yALEKwsInjspHdyoheWLV43IPbnnS7MUO/Yz8jJBt8Db1NYaIE9IHUedqjareywzC9zSH0MAEAKIDA2JyjADDeJGw 1 0.03284187614917755 eNoLCEhJMAgwDMg3NPQ39Df2tXaF0PaOENrYF0Kbe6LyrdxAtKG/kR+Eb+aFyoeZA1OPLg+hcUMDAxAGkRAeJp9yALEKwsInjspHdyoheWLV43IPbnnS7MUO/Yz8jJBt8Db1NYaIE9IHUedqjareywzC9zSH0MAEAKIDA2JyjADDeJGw 2 0.056898247450590134 eNoLCEhJMAgwDMg3NPQ39Df2tXaF0PaOENrYF0Kbe6LyrdxAtKG/kR+Eb+aFyoeZA1OPLg+hcUMDAxAGkRAeJp9yALEKwsInjspHdyoheWLV43IPbnnS7MUO/Yz8jJBt8Db1NYaIE9IHUedqjareywzC9zSH0MAEAKIDA2JyjADDeJG...  \n",
       "2    0 0.04897116497159004 eNqFUE0LwjAM/UtJuqlM8AsUN9fWgzcVlDEPMvD/32yS1m2IuLC8vOSlafM4dlC0LySP3tQn7Bw58sbOt8gZu1wrTkvFBq5eozO2TqOgBYDQZwMH+miNVSTRoQ8ourxiHXhyX/UR/2uOxMeTg2dDZxjrrM4S/ugH4J99Yj+Nr13syIlchoWh0gRcFCfB8NNkSie95D2PxsiGYwb68UUxTuPlUP/4tAh9elqB18i4WOETmB9kJdZEJa+670zdoS6rC94mbrhW59q/nwnPy0klfHUDSUxWC0lkG8X7s7mYNwcdlKw= 1 0.013224027119576931 eNqFUE0LwjAM/UtJuqlM8AsUN9fWgzcVlDEPMvD/32yS1m2IuLC8vOSlafM4dlC0LySP3tQn7Bw58sbOt8gZu1wrTkvFBq5eozO2TqOgBYDQZwMH+miNVSTRoQ8ourxiHXhyX/UR/2uOxMeTg2dDZxjrrM4S/ugH4J99Yj+Nr13syIlchoWh0gRcFCfB8NNkSie95D2PxsiGYwb68UUxTuPlUP/4tAh9elqB18i4WOETmB9kJdZEJa...  \n",
       "3    0 0.03800433129072189 eNrtVUtvwjAM/ktxAutp2mGXDhpHGpDCxvuZQtn+/21OnZQCEkyaNO2wWIqftROr/lL0bQ+eFp+gNKAkAiEM7YYIpd+1Yn4iiuAoifyV4vjKwlalH59bXf+dzJTfOR95SEIIFap65KvyiWA/q0+SbnXadT3SqRpHhZp0vocO5YiW2hNJAOev/eJal6bdBX8b1uNqxPlzK02nPIuICbSK5opf5r9c9/z3luH7Vh0xtwLB8F71Ia5Zjtt07OAtWf9M2qXvDkbJJsePtO/gNSl/WzqmAwe95JBjmVoH/WT/L/1JaZA4Lw0dTJPv/+ZhhLUUIJpzfRq3xjiBuRwoBq7bFW44PYydA4qPbwxSc47F2dyHvCjD8NXBgK1MYoBDE0c0wmdVL8LfLTohT5Su9bqkPzajYNCNYGgts4nFzqYAubDYnReglhazGekri3pagNlZFKMCsoNFZQvolhZbgwI6R+bpMEcsHOAkR7N2YKY5ihXpM+Z6kSPMiS9zlDMH2arBxyW8cDPChQVhvW+AfyWqFvH7sHXHPXwBvVrJXQ== 1 0.00746390642598271...  \n",
       "4    0 0.2537965476512909 eNqtlFuXmjAQgP8SDOgB2peeLsueXccgbgWRiwKRYBf2/781AYOKaN2eJmq+uSSZTCYqq51ySEDhTSXdr+hyvN1v+Q/117JsX9U/an+oVRlGMfFiKDKlkUwz5aPl9xiqTCGTN+ke/EgL3GE+p2YTQflCC0y4xEwWQfVSFhhzqTL3QqoKjLj028wj2DtViWvDD6Bw6hI3xlJQU2JkeAHkjss4uQHsnCXD1Kh9SJwVw8w4+BA7gSAmaM0wN0ofVs6W4cHY+rB0coa1EfvgCfoU5DoFQ9dcpaAQReVht/khIC9N5o7r1C/mq5sglzndxKh+xJ904cx0Me1f97tuczg5jJ1tFm/w8FQU8OubPl5LfQ2pP9cbTG1WQGqFG9zapSCu2/UU2qqyL2AveG1rChUcCP0tXlCg1meIG9ujUFhNiJG9pJBbdYjxKL1TyKyPEJMhTQcPavgcYH7+OIde44cPQqztPQXXCkN0n0sKn+Y6xMUzo9CY3OqdkabEgrf3OaFQm2mIy2tuzFjwhHD2rCzExr5PWwoLKxGR5RRW1ums8uL4VyUaPlLA3G9+nRvUumr...  \n",
       "..                                                                                                                                                                                                                                                                                                                                                                                                                                                                                                                                                                                                                       ...  \n",
       "554  0 0.10701867192983627 eNqFUNsOgjAM/aV1XMQ/gOHa4P1BECTGS4L+/5uMrhEv0TZZu3NO262rw6nUG31uQaPGMJ+mfZzF+VHtiJHQOiQ0MWoCAgQauQ0Y9a6U6g/oAym5eXPZSMKRM9LkdaBcJBD90MjpFMNSD0N/ac59PF/u8W62NRTRxWXrGubRdY83s6ph6bDObGqoIv/iNOH6D+d/2VkEv/lQq/EeDOttkE14P1mCQyyp5dcS5MNwWUzeNnhKywrWk+SJfjP5r1O5cTzylRPr2UWDRdZVcIsDQW3wOkHu7/h//gE0yobA 1 0.036053698509931564 eNqFUNsOgjAM/aV1XMQ/gOHa4P1BECTGS4L+/5uMrhEv0TZZu3NO262rw6nUG31uQaPGMJ+mfZzF+VHtiJHQOiQ0MWoCAgQauQ0Y9a6U6g/oAym5eXPZSMKRM9LkdaBcJBD90MjpFMNSD0N/ac59PF/u8W62NRTRxWXrGubRdY83s6ph6bDObGqoIv/iNOH6D+d/2VkEv/lQq/EeDOttkE14P1mCQyyp5dcS5MNwWUzeNnhKywrWk+SJfjP5r1...  \n",
       "555  0 0.05905895680189133 eNqVld3O4jYQhm8p43RpqLqV2gpQ98OTHydxnBAgCTjOD8n9n3UG0H6rVqpUOOB5ZzyO7XdivO6r+nI/rAlUQfzA/0WnIHrg7RApqIN1xu4QKzgHy4ztIVHQBNOMl0OmwAW3GYvDScEQtExnpmZGfbgomIPzjOmhVbAG5YzJwTIVTI4pZxoVxFs147p/KCi284Run6ZgtiNTzjRM2O91CqetnfC2L1O4bNsJ2/2Z6cp0ZToztSk023LC696mMG2XEfN9khHNI+q9ymDcTkxZBvP2zlRlUPuZw1Qm4sNlsIiTw0yOEA5UJy4Oc2kBxgycaB0aeQZ/pRoxOxzkx+gVGkqIB5zlbvG0hgzyAR/y98UrNaSgB4zQhKt31TB6lwFXPwovu0bDZdMNuPgJqZOGdnOjsqeqNHSbO81I6rozGprNwLk4PO8KHjm+Zqk4d+fc6q9YsrKcW56q4NxjwOlZpzTcNutLNbuInxCNpBJSS04qGXF8qkdOT0hZqbDbDayyEZ2fvZTdxCNaX9OcVLfw0zu/Cmuui352A55E63X7nk6S1/JdvXPOwE0WFisxGL...  \n",
       "556  0 0.3752194046974182 eNqtUrsOwjAM/CU7aXmIGaE+kiAVCbrBUhBL/3+D1LLyoAqlxR1O9tnO2e4T7tu2QzAIbzNInxZKWlRyvwPf0IQeGqGp0BYEqUOzKo+jab7OWELM88taEMtYrghhGKE4tfp86Dt8bHKOASj5qc6xvqdksabRqb+/ihBjnn1W7haa5t3S4/jcvN/91IWW5P37nW+2tM94ffpu8f/h7jz9XlP1z51vRPcVGnODMtNCyyqrLV765ihfFO3iQw== 1 0.024166949093341827 eNqtUrsOwjAM/CU7aXmIGaE+kiAVCbrBUhBL/3+D1LLyoAqlxR1O9tnO2e4T7tu2QzAIbzNInxZKWlRyvwPf0IQeGqGp0BYEqUOzKo+jab7OWELM88taEMtYrghhGKE4tfp86Dt8bHKOASj5qc6xvqdksabRqb+/ihBjnn1W7haa5t3S4/jcvN/91IWW5P37nW+2tM94ffpu8f/h7jz9XlP1z51vRPcVGnODMtNCyyqrLV765ihfFO3iQw== 2 0.4591830372810364 eNqtUrsOwjAM/CU7aXmIGaE+k...  \n",
       "557  0 0.6032495498657227 eNq1FV1vgjDwL5WjsCWLT9sysVyJnQjqnDpxrQr8/8e1dGRhWwT86CW97zuuV3pqMk1hDasCgEPoz6MDGVbU4448aYJT5oWV4GUwrPiQhg35yEOD6fMDN3JAl1e8xf+AE9VQ0dzauyO/yaNrbFBj4kREL+tjqVN8HZ20+v1el+r72p1rf6lf33W9PLY1luqib+Pb4vbNd626zq3jsn78ldfRf/jbnMdpP6s1T4P9pTnUT4DVNfm+59XF/1Z9v3R1/Y5u9ztymtDUm5M3e4EixXE4VpC7cYolKyWM6STFghUSBNWynOUSXmmWYsK2EhTdpCjYh4SCrrUv20gojUyNch5mChbevrWIrpf23Ef2FF+DHibYxPU4qu3jYJLg1j8qeAuSBDNf6eqCeYI7f6cgDVYJSr9U8O1iAt0FZnfRYy7eL1kWo3BXB1ChjHEahZm7zEGPUpPR7DojAeP2jkrgwJFkVsAnzw19JKqAI58LjB1ZgOILgYkzKyEizKuGK6AdtKabh70S9AtNnbrg 1 0.02883262373507023 eNq1FV1vgjDwL5WjsCWLT9sy...  \n",
       "558  0 0.06860875338315964 eNqdkttymzAQhl9JP6Q1k0zaaaYuTWpWNsYJlg0rjIUPmPL+d5WsusRpriIu9H970mqRmIdtMJNzg150ij6oTmK6okxODVoxW9FC9ttXtgx7RSfKDRbYKWppafCMRtGRlMEStaIdFQZraEVb0gYFWFFNlUHpVOXUBoWigmqDI14ULWgZ7EiVWIRrpszSwVHmaG6p9b4VU5/kQSotpaFi6pIO8aZEEWgHJ/ysS6wdnCw81c5TMB1tmLSwCTKmKjGix55RiYppc6YDQwubVZ/p6HxrR41Ig5bxZcm0TaJ9kGuMSybj9FLju63dOK2sPWc6OF1oqNuOICHDJDjv/3/i3/L6rXVY76ZDyUYkoVOTG4khuqWGST+UGnyfapo99Izf93OnurP6m5+ELtvXF2Jy42t5rid2Sk180niJ7Izr+KCxjuwISmeromemIm419iPWtI83jEW01bSLC0YeGU3buGSsnK2KmZFFvYtLXVxW2biutHGl7Xt858+97N+++t13J0GB7/bp83Xc4+jaT4HnYRKPI68v++W247trfuu/MOSPW1/P/RVvS2Wf2leedf...  \n",
       "\n",
       "[559 rows x 4 columns]"
      ]
     },
     "execution_count": 33,
     "metadata": {},
     "output_type": "execute_result"
    }
   ],
   "source": [
    "sample_df"
   ]
  },
  {
   "cell_type": "code",
   "execution_count": 34,
   "metadata": {
    "execution": {
     "iopub.execute_input": "2021-05-10T19:30:35.127602Z",
     "iopub.status.busy": "2021-05-10T19:30:35.126660Z",
     "iopub.status.idle": "2021-05-10T19:30:35.802095Z",
     "shell.execute_reply": "2021-05-10T19:30:35.801554Z"
    },
    "papermill": {
     "duration": 1.28704,
     "end_time": "2021-05-10T19:30:35.802233",
     "exception": false,
     "start_time": "2021-05-10T19:30:34.515193",
     "status": "completed"
    },
    "tags": []
   },
   "outputs": [],
   "source": [
    "shutil.rmtree(save_dir)\n",
    "shutil.rmtree(out_path)\n",
    "shutil.rmtree('/kaggle/working/models')"
   ]
  },
  {
   "cell_type": "code",
   "execution_count": 35,
   "metadata": {
    "execution": {
     "iopub.execute_input": "2021-05-10T19:30:36.588891Z",
     "iopub.status.busy": "2021-05-10T19:30:36.588292Z",
     "iopub.status.idle": "2021-05-10T19:30:42.994189Z",
     "shell.execute_reply": "2021-05-10T19:30:42.993698Z"
    },
    "papermill": {
     "duration": 6.796771,
     "end_time": "2021-05-10T19:30:42.994320",
     "exception": false,
     "start_time": "2021-05-10T19:30:36.197549",
     "status": "completed"
    },
    "tags": []
   },
   "outputs": [],
   "source": [
    "sample_df.to_csv('submission.csv', index=False)"
   ]
  }
 ],
 "metadata": {
  "kernelspec": {
   "display_name": "Python 3",
   "language": "python",
   "name": "python3"
  },
  "language_info": {
   "codemirror_mode": {
    "name": "ipython",
    "version": 3
   },
   "file_extension": ".py",
   "mimetype": "text/x-python",
   "name": "python",
   "nbconvert_exporter": "python",
   "pygments_lexer": "ipython3",
   "version": "3.8.5"
  },
  "papermill": {
   "default_parameters": {},
   "duration": 7467.145081,
   "end_time": "2021-05-10T19:30:46.341716",
   "environment_variables": {},
   "exception": null,
   "input_path": "__notebook__.ipynb",
   "output_path": "__notebook__.ipynb",
   "parameters": {},
   "start_time": "2021-05-10T17:26:19.196635",
   "version": "2.3.3"
  }
 },
 "nbformat": 4,
 "nbformat_minor": 5
}
